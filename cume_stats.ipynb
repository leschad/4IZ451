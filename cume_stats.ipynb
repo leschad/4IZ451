{
 "cells": [
  {
   "cell_type": "code",
   "execution_count": 6,
   "metadata": {},
   "outputs": [],
   "source": [
    "import pandas as pd\n",
    "from nba_api.stats.endpoints import cumestatsplayer\n",
    "\n",
    "plyrs = cumestatsplayer.CumeStatsPlayer(player_id=['1628384'],game_ids=['0022400203']).get_data_frames()[0]\n",
    "plyrs.columns"
   ]
  },
  {
   "cell_type": "markdown",
   "metadata": {},
   "source": [
    "Gets player games for given season -- list of game ids."
   ]
  },
  {
   "cell_type": "code",
   "execution_count": null,
   "metadata": {},
   "outputs": [],
   "source": [
    "from nba_api.stats.endpoints import cumestatsplayergames\n",
    "\n",
    "plyrgames = cumestatsplayergames.CumeStatsPlayerGames(player_id=['1628384'], season='2024-25').get_data_frames()[0]\n",
    "plyrgame_ids = plyrgames.GAME_ID\n",
    "plyrgame_ids"
   ]
  },
  {
   "cell_type": "markdown",
   "metadata": {},
   "source": [
    "Hopefully would aggregate player stats from list of games. Apparantly only accepts single game id.:("
   ]
  },
  {
   "cell_type": "code",
   "execution_count": null,
   "metadata": {},
   "outputs": [],
   "source": [
    "cume_stats = cumestatsplayer.CumeStatsPlayer(player_id=['1628384'], game_ids=plyrgame_ids).get_data_frames()[0]\n",
    "cume_stats"
   ]
  }
 ],
 "metadata": {
  "kernelspec": {
   "display_name": "Python 3",
   "language": "python",
   "name": "python3"
  },
  "language_info": {
   "codemirror_mode": {
    "name": "ipython",
    "version": 3
   },
   "file_extension": ".py",
   "mimetype": "text/x-python",
   "name": "python",
   "nbconvert_exporter": "python",
   "pygments_lexer": "ipython3",
   "version": "3.10.12"
  }
 },
 "nbformat": 4,
 "nbformat_minor": 2
}
