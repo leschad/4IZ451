{
 "cells": [
  {
   "cell_type": "markdown",
   "id": "1ca6eaa5",
   "metadata": {},
   "source": [
    "###########################################\n",
    "\n",
    "Data exploration\n",
    "\n",
    "###########################################"
   ]
  },
  {
   "cell_type": "code",
   "execution_count": 1,
   "id": "a804a173",
   "metadata": {},
   "outputs": [],
   "source": [
    "import pandas as pd\n",
    "import matplotlib.pyplot as plt"
   ]
  },
  {
   "cell_type": "code",
   "execution_count": null,
   "id": "a4d69296",
   "metadata": {},
   "outputs": [],
   "source": [
    "df = pd.read_csv(\"data_prep/pacers_data/final_shots.csv\")\n",
    "df.shape"
   ]
  },
  {
   "cell_type": "code",
   "execution_count": null,
   "id": "08e0e3d4",
   "metadata": {},
   "outputs": [],
   "source": [
    "df.columns"
   ]
  },
  {
   "cell_type": "code",
   "execution_count": null,
   "id": "1686f1ee",
   "metadata": {},
   "outputs": [],
   "source": [
    "df[\"GAME_ID\"].unique()[:10]"
   ]
  },
  {
   "cell_type": "markdown",
   "id": "cf43905d",
   "metadata": {},
   "source": [
    "Plot shot locations from single game."
   ]
  },
  {
   "cell_type": "code",
   "execution_count": null,
   "id": "83f2def4",
   "metadata": {},
   "outputs": [],
   "source": [
    "import matplotlib.pyplot as plt\n",
    "\n",
    "view_df = df[df[\"GAME_ID\"] == 22401172]\n",
    "\n",
    "# Create the scatter plot\n",
    "plt.figure(figsize=(7, 7))  # Set figure size\n",
    "plt.scatter(view_df['LOC_X'], view_df['LOC_Y'], c=view_df[\"SHOT_VALUE\"], alpha=0.6, edgecolors='black')\n",
    "\n",
    "# Labels and title\n",
    "plt.xlabel(\"X Coordinate (Court)\")\n",
    "plt.ylabel(\"Y Coordinate (Court)\")\n",
    "plt.title(\"Single Game Shot Locations\")\n",
    "plt.legend(title=\"Shot Value\", loc='upper right', labels=[\"3-Point Shot\", \"2-Point Shot\"])\n",
    "\n",
    "# Display the plot\n",
    "plt.show()"
   ]
  },
  {
   "cell_type": "markdown",
   "id": "d0cc9ccc",
   "metadata": {},
   "source": [
    "Value counts of target variable."
   ]
  },
  {
   "cell_type": "code",
   "execution_count": null,
   "id": "09fbb5a2",
   "metadata": {},
   "outputs": [],
   "source": [
    "df[\"SHOT_MADE_FLAG\"].value_counts()"
   ]
  },
  {
   "cell_type": "code",
   "execution_count": null,
   "id": "a7a7711c",
   "metadata": {},
   "outputs": [],
   "source": [
    "df[\"EVENT_TYPE\"].unique()"
   ]
  },
  {
   "cell_type": "code",
   "execution_count": null,
   "id": "277fb831",
   "metadata": {},
   "outputs": [],
   "source": [
    "df[\"ACTION_TYPE\"].isna().sum()"
   ]
  },
  {
   "cell_type": "code",
   "execution_count": null,
   "id": "d540cdd8",
   "metadata": {},
   "outputs": [],
   "source": [
    "df[\"ACTION_TYPE\"].unique()"
   ]
  },
  {
   "cell_type": "markdown",
   "id": "ca1062e8",
   "metadata": {},
   "source": [
    "###########################################\n",
    "\n",
    "Preprocessing and Modeling\n",
    "\n",
    "###########################################"
   ]
  },
  {
   "cell_type": "code",
   "execution_count": 2,
   "id": "8bdecdf0-b665-4fa5-8a01-dafe131860b1",
   "metadata": {},
   "outputs": [],
   "source": [
    "import pandas as pd\n",
    "import numpy as np\n",
    "from sklearn.model_selection import train_test_split\n",
    "from sklearn.compose import ColumnTransformer\n",
    "from sklearn.preprocessing import StandardScaler, OrdinalEncoder\n",
    "from sklearn.linear_model import LogisticRegression\n",
    "from sklearn.ensemble import RandomForestClassifier\n",
    "from sklearn.model_selection import GridSearchCV\n",
    "from sklearn.metrics import accuracy_score, roc_curve\n",
    "import matplotlib.pyplot as plt"
   ]
  },
  {
   "cell_type": "code",
   "execution_count": null,
   "id": "34d4d13c-d331-441b-bd45-55cc590fb73d",
   "metadata": {},
   "outputs": [],
   "source": [
    "# Data loading\n",
    "filename = 'final_data_spurs.csv'\n",
    "df = pd.read_csv(filename)\n",
    "\n",
    "print(\"=== DATA OVERVIEW ===\") \n",
    "print(f\"Rows: {df.shape[0]}, Columns: {df.shape[1]}\") \n",
    "print(\"\\nColumn names:\") \n",
    "print(df.columns.tolist())\n",
    "print(\"\\nFirst 5 rows:\") \n",
    "print(df.head(5))"
   ]
  },
  {
   "cell_type": "code",
   "execution_count": 16,
   "id": "f527a5d1-617b-4d01-a97a-9f8c77dc133a",
   "metadata": {},
   "outputs": [],
   "source": [
    "# Target variable and features\n",
    "num_features = ['SHOT_VALUE', 'SCORE_DIFF', 'CLUTCH_FLAG', 'SHOT_DISTANCE', 'LOC_X', 'LOC_Y', 'ZONE_FG_PCT', 'FG_PCT', 'EFG_PCT', 'PLAYER_SHOT_PCT']\n",
    "cat_features = ['ACTION_TYPE']\n",
    "X = df[num_features + cat_features]\n",
    "y = df['SHOT_MADE_FLAG']"
   ]
  },
  {
   "cell_type": "code",
   "execution_count": 17,
   "id": "f2a5006a-76d3-4018-903b-cd4aa8427877",
   "metadata": {},
   "outputs": [],
   "source": [
    "# Train/test split\n",
    "X_train, X_test, y_train, y_test = train_test_split(X, y, test_size=0.2, random_state=42, stratify=y)\n",
    "\n",
    "ct = ColumnTransformer(\n",
    "    transformers=[\n",
    "        ('num', StandardScaler(), num_features),\n",
    "        ('cat', OrdinalEncoder(), cat_features)\n",
    "    ]\n",
    ")\n",
    "\n",
    "X_train_scaled = ct.fit_transform(X_train)\n",
    "X_test_scaled = ct.transform(X_test)"
   ]
  },
  {
   "cell_type": "code",
   "execution_count": null,
   "id": "87510b4f-f9b5-4f2a-808e-850a83c84567",
   "metadata": {},
   "outputs": [],
   "source": [
    "# Models and hyperparameter tuning\n",
    "lr_params = {\n",
    "    'C': [0.01, 0.1, 1, 10],\n",
    "    'max_iter': [1000],\n",
    "    'random_state': [42]\n",
    "}\n",
    "\n",
    "rf_params = {\n",
    "    'n_estimators': [100, 200],\n",
    "    'max_depth': [10, 20, None],\n",
    "    'min_samples_split': [2, 5],\n",
    "    'min_samples_leaf': [1, 2],\n",
    "    'random_state': [42]\n",
    "}\n",
    "\n",
    "lr = LogisticRegression()\n",
    "rf = RandomForestClassifier()\n",
    "\n",
    "lr_grid = GridSearchCV(lr, lr_params, cv=5, scoring='accuracy', n_jobs=-1)\n",
    "rf_grid = GridSearchCV(rf, rf_params, cv=5, scoring='accuracy', n_jobs=-1)\n",
    "\n",
    "lr_grid.fit(X_train_scaled, y_train)\n",
    "rf_grid.fit(X_train_scaled, y_train)"
   ]
  },
  {
   "cell_type": "markdown",
   "id": "1e5a5334",
   "metadata": {},
   "source": [
    "###########################################\n",
    "\n",
    "Evaluation\n",
    "\n",
    "###########################################"
   ]
  },
  {
   "cell_type": "code",
   "execution_count": null,
   "id": "31aa01e7-7989-479a-a33c-ab425b75479a",
   "metadata": {},
   "outputs": [],
   "source": [
    "# Accuracy\n",
    "lr_best = lr_grid.best_estimator_\n",
    "rf_best = rf_grid.best_estimator_\n",
    "\n",
    "lr_pred = lr_best.predict(X_test_scaled)\n",
    "rf_pred = rf_best.predict(X_test_scaled)\n",
    "\n",
    "lr_accuracy = accuracy_score(y_test, lr_pred)\n",
    "rf_accuracy = accuracy_score(y_test, rf_pred)\n",
    "\n",
    "print(\"Logistic Regression Test Accuracy:\", lr_accuracy)\n",
    "print(\"Random Forest Test Accuracy:\", rf_accuracy)\n",
    "print(\"\\nBest Model:\", \"Random Forest\" if rf_accuracy > lr_accuracy else \"Logistic Regression\")"
   ]
  },
  {
   "cell_type": "code",
   "execution_count": null,
   "id": "76f97970",
   "metadata": {},
   "outputs": [],
   "source": [
    "# ROC Curve\n",
    "lr_fpr, lr_tpr, _ = roc_curve(y_test, lr_best.decision_function(X_test_scaled))\n",
    "rf_fpr, rf_tpr, _ = roc_curve(y_test, rf_best.predict_proba(X_test_scaled)[:, 1])\n",
    "plt.figure(figsize=(10, 6))\n",
    "plt.plot(lr_fpr, lr_tpr, label='Logistic Regression', color='blue')\n",
    "plt.plot(rf_fpr, rf_tpr, label='Random Forest', color='orange')\n",
    "plt.xlabel('False Positive Rate')\n",
    "plt.ylabel('True Positive Rate')\n",
    "plt.title('ROC Curve')\n",
    "plt.legend()\n",
    "plt.grid()\n",
    "plt.show()"
   ]
  },
  {
   "cell_type": "code",
   "execution_count": null,
   "id": "cb0b5085",
   "metadata": {},
   "outputs": [],
   "source": [
    "# Feature Importance\n",
    "importances = rf_best.feature_importances_\n",
    "feature_names = num_features + cat_features\n",
    "indices = np.argsort(importances)[::-1]\n",
    "plt.figure(figsize=(10, 6))\n",
    "plt.title(\"Feature Importance\")\n",
    "plt.bar(range(X_train_scaled.shape[1]), importances[indices], align=\"center\")\n",
    "plt.xticks(range(X_train_scaled.shape[1]), np.array(feature_names)[indices], rotation=90)\n",
    "plt.xlim([-1, X_train_scaled.shape[1]])\n",
    "plt.xlabel(\"Feature\")\n",
    "plt.ylabel(\"Importance\")\n",
    "plt.tight_layout()\n",
    "plt.show()"
   ]
  }
 ],
 "metadata": {
  "kernelspec": {
   "display_name": "Python 3",
   "language": "python",
   "name": "python3"
  },
  "language_info": {
   "codemirror_mode": {
    "name": "ipython",
    "version": 3
   },
   "file_extension": ".py",
   "mimetype": "text/x-python",
   "name": "python",
   "nbconvert_exporter": "python",
   "pygments_lexer": "ipython3",
   "version": "3.10.12"
  }
 },
 "nbformat": 4,
 "nbformat_minor": 5
}
