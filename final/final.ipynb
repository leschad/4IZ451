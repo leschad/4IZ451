{
 "cells": [
  {
   "cell_type": "code",
   "execution_count": 4,
   "metadata": {},
   "outputs": [],
   "source": [
    "import pandas as pd\n",
    "\n",
    "df_pbp = pd.read_csv(\"pbp_pacers.csv\")\n",
    "df_chart = pd.read_csv(\"chart_pacers.csv\")"
   ]
  },
  {
   "cell_type": "code",
   "execution_count": 5,
   "metadata": {},
   "outputs": [
    {
     "data": {
      "application/vnd.microsoft.datawrangler.viewer.v0+json": {
       "columns": [
        {
         "name": "index",
         "rawType": "int64",
         "type": "integer"
        },
        {
         "name": "gameId",
         "rawType": "int64",
         "type": "integer"
        },
        {
         "name": "actionNumber",
         "rawType": "int64",
         "type": "integer"
        },
        {
         "name": "teamId",
         "rawType": "int64",
         "type": "integer"
        },
        {
         "name": "teamTricode",
         "rawType": "object",
         "type": "string"
        },
        {
         "name": "personId",
         "rawType": "int64",
         "type": "integer"
        },
        {
         "name": "playerNameI",
         "rawType": "object",
         "type": "string"
        },
        {
         "name": "xLegacy",
         "rawType": "int64",
         "type": "integer"
        },
        {
         "name": "yLegacy",
         "rawType": "int64",
         "type": "integer"
        },
        {
         "name": "shotDistance",
         "rawType": "int64",
         "type": "integer"
        },
        {
         "name": "shotResult",
         "rawType": "int64",
         "type": "integer"
        },
        {
         "name": "isFieldGoal",
         "rawType": "int64",
         "type": "integer"
        },
        {
         "name": "scoreHome",
         "rawType": "float64",
         "type": "float"
        },
        {
         "name": "scoreAway",
         "rawType": "float64",
         "type": "float"
        },
        {
         "name": "location",
         "rawType": "object",
         "type": "string"
        },
        {
         "name": "actionType",
         "rawType": "object",
         "type": "string"
        },
        {
         "name": "subType",
         "rawType": "object",
         "type": "string"
        },
        {
         "name": "shotValue",
         "rawType": "int64",
         "type": "integer"
        },
        {
         "name": "actionId",
         "rawType": "int64",
         "type": "integer"
        },
        {
         "name": "scoreDiff",
         "rawType": "float64",
         "type": "float"
        },
        {
         "name": "clutchFlag",
         "rawType": "int64",
         "type": "integer"
        }
       ],
       "conversionMethod": "pd.DataFrame",
       "ref": "6a27e191-04c4-4b83-be7d-a7ef5cb90e0f",
       "rows": [
        [
         "0",
         "22401172",
         "7",
         "1610612753",
         "ORL",
         "202709",
         "C. Joseph",
         "227",
         "21",
         "0",
         "0",
         "1",
         "0.0",
         "0.0",
         "v",
         "Missed Shot",
         "Jump Shot",
         "3",
         "3",
         "0.0",
         "0"
        ],
        [
         "1",
         "22401172",
         "9",
         "1610612753",
         "ORL",
         "1629048",
         "G. Bitadze",
         "7",
         "-11",
         "1",
         "1",
         "1",
         "0.0",
         "2.0",
         "v",
         "Made Shot",
         "Alley Oop Dunk Shot",
         "2",
         "5",
         "0.0",
         "0"
        ],
        [
         "2",
         "22401172",
         "11",
         "1610612754",
         "IND",
         "1630167",
         "O. Toppin",
         "-86",
         "46",
         "10",
         "1",
         "1",
         "2.0",
         "2.0",
         "h",
         "Made Shot",
         "Driving Floating Bank Jump Shot",
         "2",
         "6",
         "-2.0",
         "0"
        ],
        [
         "3",
         "22401172",
         "12",
         "1610612753",
         "ORL",
         "203914",
         "G. Harris",
         "108",
         "256",
         "28",
         "0",
         "1",
         "2.0",
         "2.0",
         "v",
         "Missed Shot",
         "Jump Shot",
         "3",
         "7",
         "0.0",
         "0"
        ],
        [
         "4",
         "22401172",
         "14",
         "1610612754",
         "IND",
         "1631097",
         "B. Mathurin",
         "71",
         "270",
         "28",
         "0",
         "1",
         "2.0",
         "2.0",
         "h",
         "Missed Shot",
         "Pullup Jump shot",
         "3",
         "9",
         "0.0",
         "0"
        ]
       ],
       "shape": {
        "columns": 20,
        "rows": 5
       }
      },
      "text/html": [
       "<div>\n",
       "<style scoped>\n",
       "    .dataframe tbody tr th:only-of-type {\n",
       "        vertical-align: middle;\n",
       "    }\n",
       "\n",
       "    .dataframe tbody tr th {\n",
       "        vertical-align: top;\n",
       "    }\n",
       "\n",
       "    .dataframe thead th {\n",
       "        text-align: right;\n",
       "    }\n",
       "</style>\n",
       "<table border=\"1\" class=\"dataframe\">\n",
       "  <thead>\n",
       "    <tr style=\"text-align: right;\">\n",
       "      <th></th>\n",
       "      <th>gameId</th>\n",
       "      <th>actionNumber</th>\n",
       "      <th>teamId</th>\n",
       "      <th>teamTricode</th>\n",
       "      <th>personId</th>\n",
       "      <th>playerNameI</th>\n",
       "      <th>xLegacy</th>\n",
       "      <th>yLegacy</th>\n",
       "      <th>shotDistance</th>\n",
       "      <th>shotResult</th>\n",
       "      <th>isFieldGoal</th>\n",
       "      <th>scoreHome</th>\n",
       "      <th>scoreAway</th>\n",
       "      <th>location</th>\n",
       "      <th>actionType</th>\n",
       "      <th>subType</th>\n",
       "      <th>shotValue</th>\n",
       "      <th>actionId</th>\n",
       "      <th>scoreDiff</th>\n",
       "      <th>clutchFlag</th>\n",
       "    </tr>\n",
       "  </thead>\n",
       "  <tbody>\n",
       "    <tr>\n",
       "      <th>0</th>\n",
       "      <td>22401172</td>\n",
       "      <td>7</td>\n",
       "      <td>1610612753</td>\n",
       "      <td>ORL</td>\n",
       "      <td>202709</td>\n",
       "      <td>C. Joseph</td>\n",
       "      <td>227</td>\n",
       "      <td>21</td>\n",
       "      <td>0</td>\n",
       "      <td>0</td>\n",
       "      <td>1</td>\n",
       "      <td>0.0</td>\n",
       "      <td>0.0</td>\n",
       "      <td>v</td>\n",
       "      <td>Missed Shot</td>\n",
       "      <td>Jump Shot</td>\n",
       "      <td>3</td>\n",
       "      <td>3</td>\n",
       "      <td>0.0</td>\n",
       "      <td>0</td>\n",
       "    </tr>\n",
       "    <tr>\n",
       "      <th>1</th>\n",
       "      <td>22401172</td>\n",
       "      <td>9</td>\n",
       "      <td>1610612753</td>\n",
       "      <td>ORL</td>\n",
       "      <td>1629048</td>\n",
       "      <td>G. Bitadze</td>\n",
       "      <td>7</td>\n",
       "      <td>-11</td>\n",
       "      <td>1</td>\n",
       "      <td>1</td>\n",
       "      <td>1</td>\n",
       "      <td>0.0</td>\n",
       "      <td>2.0</td>\n",
       "      <td>v</td>\n",
       "      <td>Made Shot</td>\n",
       "      <td>Alley Oop Dunk Shot</td>\n",
       "      <td>2</td>\n",
       "      <td>5</td>\n",
       "      <td>0.0</td>\n",
       "      <td>0</td>\n",
       "    </tr>\n",
       "    <tr>\n",
       "      <th>2</th>\n",
       "      <td>22401172</td>\n",
       "      <td>11</td>\n",
       "      <td>1610612754</td>\n",
       "      <td>IND</td>\n",
       "      <td>1630167</td>\n",
       "      <td>O. Toppin</td>\n",
       "      <td>-86</td>\n",
       "      <td>46</td>\n",
       "      <td>10</td>\n",
       "      <td>1</td>\n",
       "      <td>1</td>\n",
       "      <td>2.0</td>\n",
       "      <td>2.0</td>\n",
       "      <td>h</td>\n",
       "      <td>Made Shot</td>\n",
       "      <td>Driving Floating Bank Jump Shot</td>\n",
       "      <td>2</td>\n",
       "      <td>6</td>\n",
       "      <td>-2.0</td>\n",
       "      <td>0</td>\n",
       "    </tr>\n",
       "    <tr>\n",
       "      <th>3</th>\n",
       "      <td>22401172</td>\n",
       "      <td>12</td>\n",
       "      <td>1610612753</td>\n",
       "      <td>ORL</td>\n",
       "      <td>203914</td>\n",
       "      <td>G. Harris</td>\n",
       "      <td>108</td>\n",
       "      <td>256</td>\n",
       "      <td>28</td>\n",
       "      <td>0</td>\n",
       "      <td>1</td>\n",
       "      <td>2.0</td>\n",
       "      <td>2.0</td>\n",
       "      <td>v</td>\n",
       "      <td>Missed Shot</td>\n",
       "      <td>Jump Shot</td>\n",
       "      <td>3</td>\n",
       "      <td>7</td>\n",
       "      <td>0.0</td>\n",
       "      <td>0</td>\n",
       "    </tr>\n",
       "    <tr>\n",
       "      <th>4</th>\n",
       "      <td>22401172</td>\n",
       "      <td>14</td>\n",
       "      <td>1610612754</td>\n",
       "      <td>IND</td>\n",
       "      <td>1631097</td>\n",
       "      <td>B. Mathurin</td>\n",
       "      <td>71</td>\n",
       "      <td>270</td>\n",
       "      <td>28</td>\n",
       "      <td>0</td>\n",
       "      <td>1</td>\n",
       "      <td>2.0</td>\n",
       "      <td>2.0</td>\n",
       "      <td>h</td>\n",
       "      <td>Missed Shot</td>\n",
       "      <td>Pullup Jump shot</td>\n",
       "      <td>3</td>\n",
       "      <td>9</td>\n",
       "      <td>0.0</td>\n",
       "      <td>0</td>\n",
       "    </tr>\n",
       "  </tbody>\n",
       "</table>\n",
       "</div>"
      ],
      "text/plain": [
       "     gameId  actionNumber      teamId teamTricode  personId  playerNameI  \\\n",
       "0  22401172             7  1610612753         ORL    202709    C. Joseph   \n",
       "1  22401172             9  1610612753         ORL   1629048   G. Bitadze   \n",
       "2  22401172            11  1610612754         IND   1630167    O. Toppin   \n",
       "3  22401172            12  1610612753         ORL    203914    G. Harris   \n",
       "4  22401172            14  1610612754         IND   1631097  B. Mathurin   \n",
       "\n",
       "   xLegacy  yLegacy  shotDistance  shotResult  isFieldGoal  scoreHome  \\\n",
       "0      227       21             0           0            1        0.0   \n",
       "1        7      -11             1           1            1        0.0   \n",
       "2      -86       46            10           1            1        2.0   \n",
       "3      108      256            28           0            1        2.0   \n",
       "4       71      270            28           0            1        2.0   \n",
       "\n",
       "   scoreAway location   actionType                          subType  \\\n",
       "0        0.0        v  Missed Shot                        Jump Shot   \n",
       "1        2.0        v    Made Shot              Alley Oop Dunk Shot   \n",
       "2        2.0        h    Made Shot  Driving Floating Bank Jump Shot   \n",
       "3        2.0        v  Missed Shot                        Jump Shot   \n",
       "4        2.0        h  Missed Shot                 Pullup Jump shot   \n",
       "\n",
       "   shotValue  actionId  scoreDiff  clutchFlag  \n",
       "0          3         3        0.0           0  \n",
       "1          2         5        0.0           0  \n",
       "2          2         6       -2.0           0  \n",
       "3          3         7        0.0           0  \n",
       "4          3         9        0.0           0  "
      ]
     },
     "execution_count": 5,
     "metadata": {},
     "output_type": "execute_result"
    }
   ],
   "source": [
    "df_pbp.head()"
   ]
  },
  {
   "cell_type": "code",
   "execution_count": 6,
   "metadata": {},
   "outputs": [
    {
     "data": {
      "application/vnd.microsoft.datawrangler.viewer.v0+json": {
       "columns": [
        {
         "name": "index",
         "rawType": "int64",
         "type": "integer"
        },
        {
         "name": "GAME_ID",
         "rawType": "int64",
         "type": "integer"
        },
        {
         "name": "GAME_EVENT_ID",
         "rawType": "int64",
         "type": "integer"
        },
        {
         "name": "PLAYER_ID",
         "rawType": "int64",
         "type": "integer"
        },
        {
         "name": "PLAYER_NAME",
         "rawType": "object",
         "type": "string"
        },
        {
         "name": "TEAM_ID",
         "rawType": "int64",
         "type": "integer"
        },
        {
         "name": "EVENT_TYPE",
         "rawType": "object",
         "type": "string"
        },
        {
         "name": "ACTION_TYPE",
         "rawType": "object",
         "type": "string"
        },
        {
         "name": "SHOT_TYPE",
         "rawType": "object",
         "type": "string"
        },
        {
         "name": "SHOT_ZONE_BASIC",
         "rawType": "object",
         "type": "string"
        },
        {
         "name": "SHOT_ZONE_AREA",
         "rawType": "object",
         "type": "string"
        },
        {
         "name": "SHOT_ZONE_RANGE",
         "rawType": "object",
         "type": "string"
        },
        {
         "name": "SHOT_DISTANCE",
         "rawType": "int64",
         "type": "integer"
        },
        {
         "name": "LOC_X",
         "rawType": "int64",
         "type": "integer"
        },
        {
         "name": "LOC_Y",
         "rawType": "int64",
         "type": "integer"
        },
        {
         "name": "SHOT_ATTEMPTED_FLAG",
         "rawType": "int64",
         "type": "integer"
        },
        {
         "name": "SHOT_MADE_FLAG",
         "rawType": "int64",
         "type": "integer"
        },
        {
         "name": "ZONE_FG_PCT",
         "rawType": "float64",
         "type": "float"
        }
       ],
       "conversionMethod": "pd.DataFrame",
       "ref": "70198b22-6865-482b-82b5-9ace3b46d1b8",
       "rows": [
        [
         "0",
         "22400003",
         "680",
         "202709",
         "Cory Joseph",
         "1610612753",
         "Missed Shot",
         "Jump Shot",
         "3PT Field Goal",
         "Backcourt",
         "Back Court(BC)",
         "Back Court Shot",
         "57",
         "165",
         "551",
         "1",
         "0",
         "0.023"
        ],
        [
         "1",
         "22400352",
         "337",
         "1629048",
         "Goga Bitadze",
         "1610612753",
         "Missed Shot",
         "Pullup Jump shot",
         "3PT Field Goal",
         "Backcourt",
         "Back Court(BC)",
         "Back Court Shot",
         "44",
         "78",
         "435",
         "1",
         "0",
         "0.023"
        ],
        [
         "2",
         "22400029",
         "499",
         "1630167",
         "Obi Toppin",
         "1610612754",
         "Missed Shot",
         "Jump Shot",
         "3PT Field Goal",
         "Backcourt",
         "Back Court(BC)",
         "Back Court Shot",
         "64",
         "164",
         "621",
         "1",
         "0",
         "0.023"
        ],
        [
         "3",
         "22400349",
         "151",
         "1630167",
         "Obi Toppin",
         "1610612754",
         "Missed Shot",
         "Pullup Jump shot",
         "3PT Field Goal",
         "Backcourt",
         "Back Court(BC)",
         "Back Court Shot",
         "44",
         "-25",
         "449",
         "1",
         "0",
         "0.023"
        ],
        [
         "4",
         "22400525",
         "332",
         "1630167",
         "Obi Toppin",
         "1610612754",
         "Missed Shot",
         "Pullup Jump shot",
         "3PT Field Goal",
         "Backcourt",
         "Back Court(BC)",
         "Back Court Shot",
         "76",
         "-174",
         "740",
         "1",
         "0",
         "0.023"
        ]
       ],
       "shape": {
        "columns": 17,
        "rows": 5
       }
      },
      "text/html": [
       "<div>\n",
       "<style scoped>\n",
       "    .dataframe tbody tr th:only-of-type {\n",
       "        vertical-align: middle;\n",
       "    }\n",
       "\n",
       "    .dataframe tbody tr th {\n",
       "        vertical-align: top;\n",
       "    }\n",
       "\n",
       "    .dataframe thead th {\n",
       "        text-align: right;\n",
       "    }\n",
       "</style>\n",
       "<table border=\"1\" class=\"dataframe\">\n",
       "  <thead>\n",
       "    <tr style=\"text-align: right;\">\n",
       "      <th></th>\n",
       "      <th>GAME_ID</th>\n",
       "      <th>GAME_EVENT_ID</th>\n",
       "      <th>PLAYER_ID</th>\n",
       "      <th>PLAYER_NAME</th>\n",
       "      <th>TEAM_ID</th>\n",
       "      <th>EVENT_TYPE</th>\n",
       "      <th>ACTION_TYPE</th>\n",
       "      <th>SHOT_TYPE</th>\n",
       "      <th>SHOT_ZONE_BASIC</th>\n",
       "      <th>SHOT_ZONE_AREA</th>\n",
       "      <th>SHOT_ZONE_RANGE</th>\n",
       "      <th>SHOT_DISTANCE</th>\n",
       "      <th>LOC_X</th>\n",
       "      <th>LOC_Y</th>\n",
       "      <th>SHOT_ATTEMPTED_FLAG</th>\n",
       "      <th>SHOT_MADE_FLAG</th>\n",
       "      <th>ZONE_FG_PCT</th>\n",
       "    </tr>\n",
       "  </thead>\n",
       "  <tbody>\n",
       "    <tr>\n",
       "      <th>0</th>\n",
       "      <td>22400003</td>\n",
       "      <td>680</td>\n",
       "      <td>202709</td>\n",
       "      <td>Cory Joseph</td>\n",
       "      <td>1610612753</td>\n",
       "      <td>Missed Shot</td>\n",
       "      <td>Jump Shot</td>\n",
       "      <td>3PT Field Goal</td>\n",
       "      <td>Backcourt</td>\n",
       "      <td>Back Court(BC)</td>\n",
       "      <td>Back Court Shot</td>\n",
       "      <td>57</td>\n",
       "      <td>165</td>\n",
       "      <td>551</td>\n",
       "      <td>1</td>\n",
       "      <td>0</td>\n",
       "      <td>0.023</td>\n",
       "    </tr>\n",
       "    <tr>\n",
       "      <th>1</th>\n",
       "      <td>22400352</td>\n",
       "      <td>337</td>\n",
       "      <td>1629048</td>\n",
       "      <td>Goga Bitadze</td>\n",
       "      <td>1610612753</td>\n",
       "      <td>Missed Shot</td>\n",
       "      <td>Pullup Jump shot</td>\n",
       "      <td>3PT Field Goal</td>\n",
       "      <td>Backcourt</td>\n",
       "      <td>Back Court(BC)</td>\n",
       "      <td>Back Court Shot</td>\n",
       "      <td>44</td>\n",
       "      <td>78</td>\n",
       "      <td>435</td>\n",
       "      <td>1</td>\n",
       "      <td>0</td>\n",
       "      <td>0.023</td>\n",
       "    </tr>\n",
       "    <tr>\n",
       "      <th>2</th>\n",
       "      <td>22400029</td>\n",
       "      <td>499</td>\n",
       "      <td>1630167</td>\n",
       "      <td>Obi Toppin</td>\n",
       "      <td>1610612754</td>\n",
       "      <td>Missed Shot</td>\n",
       "      <td>Jump Shot</td>\n",
       "      <td>3PT Field Goal</td>\n",
       "      <td>Backcourt</td>\n",
       "      <td>Back Court(BC)</td>\n",
       "      <td>Back Court Shot</td>\n",
       "      <td>64</td>\n",
       "      <td>164</td>\n",
       "      <td>621</td>\n",
       "      <td>1</td>\n",
       "      <td>0</td>\n",
       "      <td>0.023</td>\n",
       "    </tr>\n",
       "    <tr>\n",
       "      <th>3</th>\n",
       "      <td>22400349</td>\n",
       "      <td>151</td>\n",
       "      <td>1630167</td>\n",
       "      <td>Obi Toppin</td>\n",
       "      <td>1610612754</td>\n",
       "      <td>Missed Shot</td>\n",
       "      <td>Pullup Jump shot</td>\n",
       "      <td>3PT Field Goal</td>\n",
       "      <td>Backcourt</td>\n",
       "      <td>Back Court(BC)</td>\n",
       "      <td>Back Court Shot</td>\n",
       "      <td>44</td>\n",
       "      <td>-25</td>\n",
       "      <td>449</td>\n",
       "      <td>1</td>\n",
       "      <td>0</td>\n",
       "      <td>0.023</td>\n",
       "    </tr>\n",
       "    <tr>\n",
       "      <th>4</th>\n",
       "      <td>22400525</td>\n",
       "      <td>332</td>\n",
       "      <td>1630167</td>\n",
       "      <td>Obi Toppin</td>\n",
       "      <td>1610612754</td>\n",
       "      <td>Missed Shot</td>\n",
       "      <td>Pullup Jump shot</td>\n",
       "      <td>3PT Field Goal</td>\n",
       "      <td>Backcourt</td>\n",
       "      <td>Back Court(BC)</td>\n",
       "      <td>Back Court Shot</td>\n",
       "      <td>76</td>\n",
       "      <td>-174</td>\n",
       "      <td>740</td>\n",
       "      <td>1</td>\n",
       "      <td>0</td>\n",
       "      <td>0.023</td>\n",
       "    </tr>\n",
       "  </tbody>\n",
       "</table>\n",
       "</div>"
      ],
      "text/plain": [
       "    GAME_ID  GAME_EVENT_ID  PLAYER_ID   PLAYER_NAME     TEAM_ID   EVENT_TYPE  \\\n",
       "0  22400003            680     202709   Cory Joseph  1610612753  Missed Shot   \n",
       "1  22400352            337    1629048  Goga Bitadze  1610612753  Missed Shot   \n",
       "2  22400029            499    1630167    Obi Toppin  1610612754  Missed Shot   \n",
       "3  22400349            151    1630167    Obi Toppin  1610612754  Missed Shot   \n",
       "4  22400525            332    1630167    Obi Toppin  1610612754  Missed Shot   \n",
       "\n",
       "        ACTION_TYPE       SHOT_TYPE SHOT_ZONE_BASIC  SHOT_ZONE_AREA  \\\n",
       "0         Jump Shot  3PT Field Goal       Backcourt  Back Court(BC)   \n",
       "1  Pullup Jump shot  3PT Field Goal       Backcourt  Back Court(BC)   \n",
       "2         Jump Shot  3PT Field Goal       Backcourt  Back Court(BC)   \n",
       "3  Pullup Jump shot  3PT Field Goal       Backcourt  Back Court(BC)   \n",
       "4  Pullup Jump shot  3PT Field Goal       Backcourt  Back Court(BC)   \n",
       "\n",
       "   SHOT_ZONE_RANGE  SHOT_DISTANCE  LOC_X  LOC_Y  SHOT_ATTEMPTED_FLAG  \\\n",
       "0  Back Court Shot             57    165    551                    1   \n",
       "1  Back Court Shot             44     78    435                    1   \n",
       "2  Back Court Shot             64    164    621                    1   \n",
       "3  Back Court Shot             44    -25    449                    1   \n",
       "4  Back Court Shot             76   -174    740                    1   \n",
       "\n",
       "   SHOT_MADE_FLAG  ZONE_FG_PCT  \n",
       "0               0        0.023  \n",
       "1               0        0.023  \n",
       "2               0        0.023  \n",
       "3               0        0.023  \n",
       "4               0        0.023  "
      ]
     },
     "execution_count": 6,
     "metadata": {},
     "output_type": "execute_result"
    }
   ],
   "source": [
    "df_chart.head()"
   ]
  },
  {
   "cell_type": "code",
   "execution_count": 7,
   "metadata": {},
   "outputs": [
    {
     "data": {
      "text/plain": [
       "(14464, 20)"
      ]
     },
     "execution_count": 7,
     "metadata": {},
     "output_type": "execute_result"
    }
   ],
   "source": [
    "df_pbp.shape"
   ]
  },
  {
   "cell_type": "code",
   "execution_count": 8,
   "metadata": {},
   "outputs": [
    {
     "data": {
      "text/plain": [
       "(205043, 17)"
      ]
     },
     "execution_count": 8,
     "metadata": {},
     "output_type": "execute_result"
    }
   ],
   "source": [
    "df_chart.shape"
   ]
  },
  {
   "cell_type": "code",
   "execution_count": 11,
   "metadata": {},
   "outputs": [
    {
     "data": {
      "text/plain": [
       "(14464, 37)"
      ]
     },
     "execution_count": 11,
     "metadata": {},
     "output_type": "execute_result"
    }
   ],
   "source": [
    "df_final = pd.merge(df_pbp, df_chart, how=\"inner\", left_on=[\"gameId\", \"actionNumber\", \"personId\"], right_on=[\"GAME_ID\", \"GAME_EVENT_ID\", \"PLAYER_ID\"])\n",
    "# df_chart = df_chart.drop(columns=[\"PLAYER_ID\"])\n",
    "df_final.shape"
   ]
  },
  {
   "cell_type": "code",
   "execution_count": 10,
   "metadata": {},
   "outputs": [
    {
     "data": {
      "text/plain": [
       "Index(['gameId', 'actionNumber', 'teamId', 'teamTricode', 'personId',\n",
       "       'playerNameI', 'xLegacy', 'yLegacy', 'shotDistance', 'shotResult',\n",
       "       'isFieldGoal', 'scoreHome', 'scoreAway', 'location', 'actionType',\n",
       "       'subType', 'shotValue', 'actionId', 'scoreDiff', 'clutchFlag',\n",
       "       'GAME_ID', 'GAME_EVENT_ID', 'PLAYER_ID', 'PLAYER_NAME', 'TEAM_ID',\n",
       "       'EVENT_TYPE', 'ACTION_TYPE', 'SHOT_TYPE', 'SHOT_ZONE_BASIC',\n",
       "       'SHOT_ZONE_AREA', 'SHOT_ZONE_RANGE', 'SHOT_DISTANCE', 'LOC_X', 'LOC_Y',\n",
       "       'SHOT_ATTEMPTED_FLAG', 'SHOT_MADE_FLAG', 'ZONE_FG_PCT'],\n",
       "      dtype='object')"
      ]
     },
     "execution_count": 10,
     "metadata": {},
     "output_type": "execute_result"
    }
   ],
   "source": [
    "df_final.columns"
   ]
  },
  {
   "cell_type": "code",
   "execution_count": 20,
   "metadata": {},
   "outputs": [
    {
     "data": {
      "text/plain": [
       "True"
      ]
     },
     "execution_count": 20,
     "metadata": {},
     "output_type": "execute_result"
    }
   ],
   "source": [
    "(df_final[\"shotResult\"] == df_final[\"SHOT_MADE_FLAG\"]).all()"
   ]
  },
  {
   "cell_type": "code",
   "execution_count": 19,
   "metadata": {},
   "outputs": [
    {
     "data": {
      "application/vnd.microsoft.datawrangler.viewer.v0+json": {
       "columns": [
        {
         "name": "index",
         "rawType": "int64",
         "type": "integer"
        },
        {
         "name": "shotDistance",
         "rawType": "int64",
         "type": "integer"
        },
        {
         "name": "SHOT_DISTANCE",
         "rawType": "int64",
         "type": "integer"
        }
       ],
       "conversionMethod": "pd.DataFrame",
       "ref": "ef6803e4-ffb9-4684-acfd-7243af3a5a30",
       "rows": [
        [
         "0",
         "0",
         "22"
        ],
        [
         "2",
         "10",
         "9"
        ],
        [
         "3",
         "28",
         "27"
        ],
        [
         "4",
         "28",
         "27"
        ],
        [
         "5",
         "2",
         "1"
        ]
       ],
       "shape": {
        "columns": 2,
        "rows": 5
       }
      },
      "text/html": [
       "<div>\n",
       "<style scoped>\n",
       "    .dataframe tbody tr th:only-of-type {\n",
       "        vertical-align: middle;\n",
       "    }\n",
       "\n",
       "    .dataframe tbody tr th {\n",
       "        vertical-align: top;\n",
       "    }\n",
       "\n",
       "    .dataframe thead th {\n",
       "        text-align: right;\n",
       "    }\n",
       "</style>\n",
       "<table border=\"1\" class=\"dataframe\">\n",
       "  <thead>\n",
       "    <tr style=\"text-align: right;\">\n",
       "      <th></th>\n",
       "      <th>shotDistance</th>\n",
       "      <th>SHOT_DISTANCE</th>\n",
       "    </tr>\n",
       "  </thead>\n",
       "  <tbody>\n",
       "    <tr>\n",
       "      <th>0</th>\n",
       "      <td>0</td>\n",
       "      <td>22</td>\n",
       "    </tr>\n",
       "    <tr>\n",
       "      <th>2</th>\n",
       "      <td>10</td>\n",
       "      <td>9</td>\n",
       "    </tr>\n",
       "    <tr>\n",
       "      <th>3</th>\n",
       "      <td>28</td>\n",
       "      <td>27</td>\n",
       "    </tr>\n",
       "    <tr>\n",
       "      <th>4</th>\n",
       "      <td>28</td>\n",
       "      <td>27</td>\n",
       "    </tr>\n",
       "    <tr>\n",
       "      <th>5</th>\n",
       "      <td>2</td>\n",
       "      <td>1</td>\n",
       "    </tr>\n",
       "  </tbody>\n",
       "</table>\n",
       "</div>"
      ],
      "text/plain": [
       "   shotDistance  SHOT_DISTANCE\n",
       "0             0             22\n",
       "2            10              9\n",
       "3            28             27\n",
       "4            28             27\n",
       "5             2              1"
      ]
     },
     "execution_count": 19,
     "metadata": {},
     "output_type": "execute_result"
    }
   ],
   "source": [
    "df_final[df_final[\"shotDistance\"] != df_final[\"SHOT_DISTANCE\"]][[\"shotDistance\", \"SHOT_DISTANCE\"]].head()"
   ]
  },
  {
   "cell_type": "code",
   "execution_count": 21,
   "metadata": {},
   "outputs": [
    {
     "data": {
      "text/plain": [
       "1    14464\n",
       "Name: SHOT_ATTEMPTED_FLAG, dtype: int64"
      ]
     },
     "execution_count": 21,
     "metadata": {},
     "output_type": "execute_result"
    }
   ],
   "source": [
    "df_final[\"SHOT_ATTEMPTED_FLAG\"].value_counts()"
   ]
  },
  {
   "cell_type": "code",
   "execution_count": 23,
   "metadata": {},
   "outputs": [],
   "source": [
    "df_final.drop(columns=['gameId', 'actionNumber', 'teamId', 'teamTricode', 'personId',\n",
    "       'playerNameI', 'xLegacy', 'yLegacy', 'shotDistance', 'shotResult',\n",
    "       'isFieldGoal', 'scoreHome', 'scoreAway', 'location', 'actionType',\n",
    "       'subType', 'EVENT_TYPE', 'SHOT_TYPE', 'SHOT_ATTEMPTED_FLAG'], inplace=True)"
   ]
  },
  {
   "cell_type": "code",
   "execution_count": 25,
   "metadata": {},
   "outputs": [],
   "source": [
    "df_final.rename(columns={\"shotValue\": \"SHOT_VALUE\", \"actionId\": \"ACTION_ID\", \"scoreDiff\": \"SCORE_DIFF\", \"clutchFlag\": \"CLUTCH_FLAG\"}, inplace=True)"
   ]
  },
  {
   "cell_type": "code",
   "execution_count": 26,
   "metadata": {},
   "outputs": [
    {
     "data": {
      "application/vnd.microsoft.datawrangler.viewer.v0+json": {
       "columns": [
        {
         "name": "index",
         "rawType": "int64",
         "type": "integer"
        },
        {
         "name": "SHOT_VALUE",
         "rawType": "int64",
         "type": "integer"
        },
        {
         "name": "ACTION_ID",
         "rawType": "int64",
         "type": "integer"
        },
        {
         "name": "SCORE_DIFF",
         "rawType": "float64",
         "type": "float"
        },
        {
         "name": "CLUTCH_FLAG",
         "rawType": "int64",
         "type": "integer"
        },
        {
         "name": "GAME_ID",
         "rawType": "int64",
         "type": "integer"
        },
        {
         "name": "GAME_EVENT_ID",
         "rawType": "int64",
         "type": "integer"
        },
        {
         "name": "PLAYER_ID",
         "rawType": "int64",
         "type": "integer"
        },
        {
         "name": "PLAYER_NAME",
         "rawType": "object",
         "type": "string"
        },
        {
         "name": "TEAM_ID",
         "rawType": "int64",
         "type": "integer"
        },
        {
         "name": "EVENT_TYPE",
         "rawType": "object",
         "type": "string"
        },
        {
         "name": "ACTION_TYPE",
         "rawType": "object",
         "type": "string"
        },
        {
         "name": "SHOT_TYPE",
         "rawType": "object",
         "type": "string"
        },
        {
         "name": "SHOT_ZONE_BASIC",
         "rawType": "object",
         "type": "string"
        },
        {
         "name": "SHOT_ZONE_AREA",
         "rawType": "object",
         "type": "string"
        },
        {
         "name": "SHOT_ZONE_RANGE",
         "rawType": "object",
         "type": "string"
        },
        {
         "name": "SHOT_DISTANCE",
         "rawType": "int64",
         "type": "integer"
        },
        {
         "name": "LOC_X",
         "rawType": "int64",
         "type": "integer"
        },
        {
         "name": "LOC_Y",
         "rawType": "int64",
         "type": "integer"
        },
        {
         "name": "SHOT_MADE_FLAG",
         "rawType": "int64",
         "type": "integer"
        },
        {
         "name": "ZONE_FG_PCT",
         "rawType": "float64",
         "type": "float"
        }
       ],
       "conversionMethod": "pd.DataFrame",
       "ref": "2b99a4e3-52f1-4e88-92c8-d0d884439104",
       "rows": [
        [
         "0",
         "3",
         "3",
         "0.0",
         "0",
         "22401172",
         "7",
         "202709",
         "Cory Joseph",
         "1610612753",
         "Missed Shot",
         "Jump Shot",
         "3PT Field Goal",
         "Right Corner 3",
         "Right Side(R)",
         "24+ ft.",
         "22",
         "227",
         "21",
         "0",
         "0.39"
        ],
        [
         "1",
         "2",
         "5",
         "0.0",
         "0",
         "22401172",
         "9",
         "1629048",
         "Goga Bitadze",
         "1610612753",
         "Made Shot",
         "Alley Oop Dunk Shot",
         "2PT Field Goal",
         "Restricted Area",
         "Center(C)",
         "Less Than 8 ft.",
         "1",
         "7",
         "-11",
         "1",
         "0.664"
        ],
        [
         "2",
         "2",
         "6",
         "-2.0",
         "0",
         "22401172",
         "11",
         "1630167",
         "Obi Toppin",
         "1610612754",
         "Made Shot",
         "Driving Floating Bank Jump Shot",
         "2PT Field Goal",
         "Mid-Range",
         "Left Side(L)",
         "8-16 ft.",
         "9",
         "-86",
         "46",
         "1",
         "0.422"
        ],
        [
         "3",
         "3",
         "7",
         "0.0",
         "0",
         "22401172",
         "12",
         "203914",
         "Gary Harris",
         "1610612753",
         "Missed Shot",
         "Jump Shot",
         "3PT Field Goal",
         "Above the Break 3",
         "Right Side Center(RC)",
         "24+ ft.",
         "27",
         "108",
         "256",
         "0",
         "0.352"
        ],
        [
         "4",
         "3",
         "9",
         "0.0",
         "0",
         "22401172",
         "14",
         "1631097",
         "Bennedict Mathurin",
         "1610612754",
         "Missed Shot",
         "Pullup Jump shot",
         "3PT Field Goal",
         "Above the Break 3",
         "Center(C)",
         "24+ ft.",
         "27",
         "71",
         "270",
         "0",
         "0.349"
        ]
       ],
       "shape": {
        "columns": 20,
        "rows": 5
       }
      },
      "text/html": [
       "<div>\n",
       "<style scoped>\n",
       "    .dataframe tbody tr th:only-of-type {\n",
       "        vertical-align: middle;\n",
       "    }\n",
       "\n",
       "    .dataframe tbody tr th {\n",
       "        vertical-align: top;\n",
       "    }\n",
       "\n",
       "    .dataframe thead th {\n",
       "        text-align: right;\n",
       "    }\n",
       "</style>\n",
       "<table border=\"1\" class=\"dataframe\">\n",
       "  <thead>\n",
       "    <tr style=\"text-align: right;\">\n",
       "      <th></th>\n",
       "      <th>SHOT_VALUE</th>\n",
       "      <th>ACTION_ID</th>\n",
       "      <th>SCORE_DIFF</th>\n",
       "      <th>CLUTCH_FLAG</th>\n",
       "      <th>GAME_ID</th>\n",
       "      <th>GAME_EVENT_ID</th>\n",
       "      <th>PLAYER_ID</th>\n",
       "      <th>PLAYER_NAME</th>\n",
       "      <th>TEAM_ID</th>\n",
       "      <th>EVENT_TYPE</th>\n",
       "      <th>ACTION_TYPE</th>\n",
       "      <th>SHOT_TYPE</th>\n",
       "      <th>SHOT_ZONE_BASIC</th>\n",
       "      <th>SHOT_ZONE_AREA</th>\n",
       "      <th>SHOT_ZONE_RANGE</th>\n",
       "      <th>SHOT_DISTANCE</th>\n",
       "      <th>LOC_X</th>\n",
       "      <th>LOC_Y</th>\n",
       "      <th>SHOT_MADE_FLAG</th>\n",
       "      <th>ZONE_FG_PCT</th>\n",
       "    </tr>\n",
       "  </thead>\n",
       "  <tbody>\n",
       "    <tr>\n",
       "      <th>0</th>\n",
       "      <td>3</td>\n",
       "      <td>3</td>\n",
       "      <td>0.0</td>\n",
       "      <td>0</td>\n",
       "      <td>22401172</td>\n",
       "      <td>7</td>\n",
       "      <td>202709</td>\n",
       "      <td>Cory Joseph</td>\n",
       "      <td>1610612753</td>\n",
       "      <td>Missed Shot</td>\n",
       "      <td>Jump Shot</td>\n",
       "      <td>3PT Field Goal</td>\n",
       "      <td>Right Corner 3</td>\n",
       "      <td>Right Side(R)</td>\n",
       "      <td>24+ ft.</td>\n",
       "      <td>22</td>\n",
       "      <td>227</td>\n",
       "      <td>21</td>\n",
       "      <td>0</td>\n",
       "      <td>0.390</td>\n",
       "    </tr>\n",
       "    <tr>\n",
       "      <th>1</th>\n",
       "      <td>2</td>\n",
       "      <td>5</td>\n",
       "      <td>0.0</td>\n",
       "      <td>0</td>\n",
       "      <td>22401172</td>\n",
       "      <td>9</td>\n",
       "      <td>1629048</td>\n",
       "      <td>Goga Bitadze</td>\n",
       "      <td>1610612753</td>\n",
       "      <td>Made Shot</td>\n",
       "      <td>Alley Oop Dunk Shot</td>\n",
       "      <td>2PT Field Goal</td>\n",
       "      <td>Restricted Area</td>\n",
       "      <td>Center(C)</td>\n",
       "      <td>Less Than 8 ft.</td>\n",
       "      <td>1</td>\n",
       "      <td>7</td>\n",
       "      <td>-11</td>\n",
       "      <td>1</td>\n",
       "      <td>0.664</td>\n",
       "    </tr>\n",
       "    <tr>\n",
       "      <th>2</th>\n",
       "      <td>2</td>\n",
       "      <td>6</td>\n",
       "      <td>-2.0</td>\n",
       "      <td>0</td>\n",
       "      <td>22401172</td>\n",
       "      <td>11</td>\n",
       "      <td>1630167</td>\n",
       "      <td>Obi Toppin</td>\n",
       "      <td>1610612754</td>\n",
       "      <td>Made Shot</td>\n",
       "      <td>Driving Floating Bank Jump Shot</td>\n",
       "      <td>2PT Field Goal</td>\n",
       "      <td>Mid-Range</td>\n",
       "      <td>Left Side(L)</td>\n",
       "      <td>8-16 ft.</td>\n",
       "      <td>9</td>\n",
       "      <td>-86</td>\n",
       "      <td>46</td>\n",
       "      <td>1</td>\n",
       "      <td>0.422</td>\n",
       "    </tr>\n",
       "    <tr>\n",
       "      <th>3</th>\n",
       "      <td>3</td>\n",
       "      <td>7</td>\n",
       "      <td>0.0</td>\n",
       "      <td>0</td>\n",
       "      <td>22401172</td>\n",
       "      <td>12</td>\n",
       "      <td>203914</td>\n",
       "      <td>Gary Harris</td>\n",
       "      <td>1610612753</td>\n",
       "      <td>Missed Shot</td>\n",
       "      <td>Jump Shot</td>\n",
       "      <td>3PT Field Goal</td>\n",
       "      <td>Above the Break 3</td>\n",
       "      <td>Right Side Center(RC)</td>\n",
       "      <td>24+ ft.</td>\n",
       "      <td>27</td>\n",
       "      <td>108</td>\n",
       "      <td>256</td>\n",
       "      <td>0</td>\n",
       "      <td>0.352</td>\n",
       "    </tr>\n",
       "    <tr>\n",
       "      <th>4</th>\n",
       "      <td>3</td>\n",
       "      <td>9</td>\n",
       "      <td>0.0</td>\n",
       "      <td>0</td>\n",
       "      <td>22401172</td>\n",
       "      <td>14</td>\n",
       "      <td>1631097</td>\n",
       "      <td>Bennedict Mathurin</td>\n",
       "      <td>1610612754</td>\n",
       "      <td>Missed Shot</td>\n",
       "      <td>Pullup Jump shot</td>\n",
       "      <td>3PT Field Goal</td>\n",
       "      <td>Above the Break 3</td>\n",
       "      <td>Center(C)</td>\n",
       "      <td>24+ ft.</td>\n",
       "      <td>27</td>\n",
       "      <td>71</td>\n",
       "      <td>270</td>\n",
       "      <td>0</td>\n",
       "      <td>0.349</td>\n",
       "    </tr>\n",
       "  </tbody>\n",
       "</table>\n",
       "</div>"
      ],
      "text/plain": [
       "   SHOT_VALUE  ACTION_ID  SCORE_DIFF  CLUTCH_FLAG   GAME_ID  GAME_EVENT_ID  \\\n",
       "0           3          3         0.0            0  22401172              7   \n",
       "1           2          5         0.0            0  22401172              9   \n",
       "2           2          6        -2.0            0  22401172             11   \n",
       "3           3          7         0.0            0  22401172             12   \n",
       "4           3          9         0.0            0  22401172             14   \n",
       "\n",
       "   PLAYER_ID         PLAYER_NAME     TEAM_ID   EVENT_TYPE  \\\n",
       "0     202709         Cory Joseph  1610612753  Missed Shot   \n",
       "1    1629048        Goga Bitadze  1610612753    Made Shot   \n",
       "2    1630167          Obi Toppin  1610612754    Made Shot   \n",
       "3     203914         Gary Harris  1610612753  Missed Shot   \n",
       "4    1631097  Bennedict Mathurin  1610612754  Missed Shot   \n",
       "\n",
       "                       ACTION_TYPE       SHOT_TYPE    SHOT_ZONE_BASIC  \\\n",
       "0                        Jump Shot  3PT Field Goal     Right Corner 3   \n",
       "1              Alley Oop Dunk Shot  2PT Field Goal    Restricted Area   \n",
       "2  Driving Floating Bank Jump Shot  2PT Field Goal          Mid-Range   \n",
       "3                        Jump Shot  3PT Field Goal  Above the Break 3   \n",
       "4                 Pullup Jump shot  3PT Field Goal  Above the Break 3   \n",
       "\n",
       "          SHOT_ZONE_AREA  SHOT_ZONE_RANGE  SHOT_DISTANCE  LOC_X  LOC_Y  \\\n",
       "0          Right Side(R)          24+ ft.             22    227     21   \n",
       "1              Center(C)  Less Than 8 ft.              1      7    -11   \n",
       "2           Left Side(L)         8-16 ft.              9    -86     46   \n",
       "3  Right Side Center(RC)          24+ ft.             27    108    256   \n",
       "4              Center(C)          24+ ft.             27     71    270   \n",
       "\n",
       "   SHOT_MADE_FLAG  ZONE_FG_PCT  \n",
       "0               0        0.390  \n",
       "1               1        0.664  \n",
       "2               1        0.422  \n",
       "3               0        0.352  \n",
       "4               0        0.349  "
      ]
     },
     "execution_count": 26,
     "metadata": {},
     "output_type": "execute_result"
    }
   ],
   "source": [
    "df_final.head()"
   ]
  },
  {
   "cell_type": "code",
   "execution_count": 27,
   "metadata": {},
   "outputs": [],
   "source": [
    "df_final.to_csv(\"final_pacers.csv\", index=False)"
   ]
  },
  {
   "cell_type": "markdown",
   "metadata": {},
   "source": [
    "Simple version player shooting PCTG."
   ]
  },
  {
   "cell_type": "code",
   "execution_count": 28,
   "metadata": {},
   "outputs": [],
   "source": [
    "df_final = pd.read_csv(\"final_pacers.csv\")"
   ]
  },
  {
   "cell_type": "code",
   "execution_count": 40,
   "metadata": {},
   "outputs": [],
   "source": [
    "df_profiles = pd.read_csv(\"../player_profiles24.csv\")"
   ]
  },
  {
   "cell_type": "code",
   "execution_count": 41,
   "metadata": {},
   "outputs": [],
   "source": [
    "df_profiles.drop(columns=[\"SEASON_ID\", \"GP\", \"MIN\", \"FGM\", \"FGA\", \"FG3M\", \"FG3A\"], inplace=True)"
   ]
  },
  {
   "cell_type": "code",
   "execution_count": 30,
   "metadata": {},
   "outputs": [
    {
     "data": {
      "text/plain": [
       "(14464, 20)"
      ]
     },
     "execution_count": 30,
     "metadata": {},
     "output_type": "execute_result"
    }
   ],
   "source": [
    "df_final.shape"
   ]
  },
  {
   "cell_type": "code",
   "execution_count": 44,
   "metadata": {},
   "outputs": [
    {
     "data": {
      "text/plain": [
       "(14403, 22)"
      ]
     },
     "execution_count": 44,
     "metadata": {},
     "output_type": "execute_result"
    }
   ],
   "source": [
    "df_final = pd.merge(df_final, df_profiles, how=\"inner\", on=\"PLAYER_ID\")\n",
    "df_final.shape"
   ]
  },
  {
   "cell_type": "code",
   "execution_count": 45,
   "metadata": {},
   "outputs": [
    {
     "data": {
      "application/vnd.microsoft.datawrangler.viewer.v0+json": {
       "columns": [
        {
         "name": "index",
         "rawType": "int64",
         "type": "integer"
        },
        {
         "name": "SHOT_VALUE",
         "rawType": "int64",
         "type": "integer"
        },
        {
         "name": "ACTION_ID",
         "rawType": "int64",
         "type": "integer"
        },
        {
         "name": "SCORE_DIFF",
         "rawType": "float64",
         "type": "float"
        },
        {
         "name": "CLUTCH_FLAG",
         "rawType": "int64",
         "type": "integer"
        },
        {
         "name": "GAME_ID",
         "rawType": "int64",
         "type": "integer"
        },
        {
         "name": "GAME_EVENT_ID",
         "rawType": "int64",
         "type": "integer"
        },
        {
         "name": "PLAYER_ID",
         "rawType": "int64",
         "type": "integer"
        },
        {
         "name": "PLAYER_NAME",
         "rawType": "object",
         "type": "string"
        },
        {
         "name": "TEAM_ID",
         "rawType": "int64",
         "type": "integer"
        },
        {
         "name": "EVENT_TYPE",
         "rawType": "object",
         "type": "string"
        },
        {
         "name": "ACTION_TYPE",
         "rawType": "object",
         "type": "string"
        },
        {
         "name": "SHOT_TYPE",
         "rawType": "object",
         "type": "string"
        },
        {
         "name": "SHOT_ZONE_BASIC",
         "rawType": "object",
         "type": "string"
        },
        {
         "name": "SHOT_ZONE_AREA",
         "rawType": "object",
         "type": "string"
        },
        {
         "name": "SHOT_ZONE_RANGE",
         "rawType": "object",
         "type": "string"
        },
        {
         "name": "SHOT_DISTANCE",
         "rawType": "int64",
         "type": "integer"
        },
        {
         "name": "LOC_X",
         "rawType": "int64",
         "type": "integer"
        },
        {
         "name": "LOC_Y",
         "rawType": "int64",
         "type": "integer"
        },
        {
         "name": "SHOT_MADE_FLAG",
         "rawType": "int64",
         "type": "integer"
        },
        {
         "name": "ZONE_FG_PCT",
         "rawType": "float64",
         "type": "float"
        },
        {
         "name": "FG_PCT",
         "rawType": "float64",
         "type": "float"
        },
        {
         "name": "FG3_PCT",
         "rawType": "float64",
         "type": "float"
        }
       ],
       "conversionMethod": "pd.DataFrame",
       "ref": "6d17f589-6512-4dbf-b785-fa35318a0391",
       "rows": [
        [
         "0",
         "3",
         "3",
         "0.0",
         "0",
         "22401172",
         "7",
         "202709",
         "Cory Joseph",
         "1610612753",
         "Missed Shot",
         "Jump Shot",
         "3PT Field Goal",
         "Right Corner 3",
         "Right Side(R)",
         "24+ ft.",
         "22",
         "227",
         "21",
         "0",
         "0.39",
         "0.385",
         "0.35"
        ],
        [
         "1",
         "2",
         "20",
         "-1.0",
         "0",
         "22401172",
         "27",
         "202709",
         "Cory Joseph",
         "1610612753",
         "Made Shot",
         "Driving Finger Roll Layup Shot",
         "2PT Field Goal",
         "Restricted Area",
         "Center(C)",
         "Less Than 8 ft.",
         "2",
         "-16",
         "21",
         "1",
         "0.664",
         "0.385",
         "0.35"
        ],
        [
         "2",
         "2",
         "5",
         "0.0",
         "0",
         "22401172",
         "9",
         "1629048",
         "Goga Bitadze",
         "1610612753",
         "Made Shot",
         "Alley Oop Dunk Shot",
         "2PT Field Goal",
         "Restricted Area",
         "Center(C)",
         "Less Than 8 ft.",
         "1",
         "7",
         "-11",
         "1",
         "0.664",
         "0.624",
         "0.13"
        ],
        [
         "3",
         "3",
         "14",
         "0.0",
         "0",
         "22401172",
         "19",
         "1629048",
         "Goga Bitadze",
         "1610612753",
         "Missed Shot",
         "Jump Shot",
         "3PT Field Goal",
         "Above the Break 3",
         "Center(C)",
         "24+ ft.",
         "26",
         "1",
         "268",
         "0",
         "0.349",
         "0.624",
         "0.13"
        ],
        [
         "4",
         "2",
         "46",
         "2.0",
         "0",
         "22401172",
         "63",
         "1629048",
         "Goga Bitadze",
         "1610612753",
         "Made Shot",
         "Hook Shot",
         "2PT Field Goal",
         "In The Paint (Non-RA)",
         "Center(C)",
         "Less Than 8 ft.",
         "5",
         "48",
         "31",
         "1",
         "0.439",
         "0.624",
         "0.13"
        ]
       ],
       "shape": {
        "columns": 22,
        "rows": 5
       }
      },
      "text/html": [
       "<div>\n",
       "<style scoped>\n",
       "    .dataframe tbody tr th:only-of-type {\n",
       "        vertical-align: middle;\n",
       "    }\n",
       "\n",
       "    .dataframe tbody tr th {\n",
       "        vertical-align: top;\n",
       "    }\n",
       "\n",
       "    .dataframe thead th {\n",
       "        text-align: right;\n",
       "    }\n",
       "</style>\n",
       "<table border=\"1\" class=\"dataframe\">\n",
       "  <thead>\n",
       "    <tr style=\"text-align: right;\">\n",
       "      <th></th>\n",
       "      <th>SHOT_VALUE</th>\n",
       "      <th>ACTION_ID</th>\n",
       "      <th>SCORE_DIFF</th>\n",
       "      <th>CLUTCH_FLAG</th>\n",
       "      <th>GAME_ID</th>\n",
       "      <th>GAME_EVENT_ID</th>\n",
       "      <th>PLAYER_ID</th>\n",
       "      <th>PLAYER_NAME</th>\n",
       "      <th>TEAM_ID</th>\n",
       "      <th>EVENT_TYPE</th>\n",
       "      <th>...</th>\n",
       "      <th>SHOT_ZONE_BASIC</th>\n",
       "      <th>SHOT_ZONE_AREA</th>\n",
       "      <th>SHOT_ZONE_RANGE</th>\n",
       "      <th>SHOT_DISTANCE</th>\n",
       "      <th>LOC_X</th>\n",
       "      <th>LOC_Y</th>\n",
       "      <th>SHOT_MADE_FLAG</th>\n",
       "      <th>ZONE_FG_PCT</th>\n",
       "      <th>FG_PCT</th>\n",
       "      <th>FG3_PCT</th>\n",
       "    </tr>\n",
       "  </thead>\n",
       "  <tbody>\n",
       "    <tr>\n",
       "      <th>0</th>\n",
       "      <td>3</td>\n",
       "      <td>3</td>\n",
       "      <td>0.0</td>\n",
       "      <td>0</td>\n",
       "      <td>22401172</td>\n",
       "      <td>7</td>\n",
       "      <td>202709</td>\n",
       "      <td>Cory Joseph</td>\n",
       "      <td>1610612753</td>\n",
       "      <td>Missed Shot</td>\n",
       "      <td>...</td>\n",
       "      <td>Right Corner 3</td>\n",
       "      <td>Right Side(R)</td>\n",
       "      <td>24+ ft.</td>\n",
       "      <td>22</td>\n",
       "      <td>227</td>\n",
       "      <td>21</td>\n",
       "      <td>0</td>\n",
       "      <td>0.390</td>\n",
       "      <td>0.385</td>\n",
       "      <td>0.35</td>\n",
       "    </tr>\n",
       "    <tr>\n",
       "      <th>1</th>\n",
       "      <td>2</td>\n",
       "      <td>20</td>\n",
       "      <td>-1.0</td>\n",
       "      <td>0</td>\n",
       "      <td>22401172</td>\n",
       "      <td>27</td>\n",
       "      <td>202709</td>\n",
       "      <td>Cory Joseph</td>\n",
       "      <td>1610612753</td>\n",
       "      <td>Made Shot</td>\n",
       "      <td>...</td>\n",
       "      <td>Restricted Area</td>\n",
       "      <td>Center(C)</td>\n",
       "      <td>Less Than 8 ft.</td>\n",
       "      <td>2</td>\n",
       "      <td>-16</td>\n",
       "      <td>21</td>\n",
       "      <td>1</td>\n",
       "      <td>0.664</td>\n",
       "      <td>0.385</td>\n",
       "      <td>0.35</td>\n",
       "    </tr>\n",
       "    <tr>\n",
       "      <th>2</th>\n",
       "      <td>2</td>\n",
       "      <td>5</td>\n",
       "      <td>0.0</td>\n",
       "      <td>0</td>\n",
       "      <td>22401172</td>\n",
       "      <td>9</td>\n",
       "      <td>1629048</td>\n",
       "      <td>Goga Bitadze</td>\n",
       "      <td>1610612753</td>\n",
       "      <td>Made Shot</td>\n",
       "      <td>...</td>\n",
       "      <td>Restricted Area</td>\n",
       "      <td>Center(C)</td>\n",
       "      <td>Less Than 8 ft.</td>\n",
       "      <td>1</td>\n",
       "      <td>7</td>\n",
       "      <td>-11</td>\n",
       "      <td>1</td>\n",
       "      <td>0.664</td>\n",
       "      <td>0.624</td>\n",
       "      <td>0.13</td>\n",
       "    </tr>\n",
       "    <tr>\n",
       "      <th>3</th>\n",
       "      <td>3</td>\n",
       "      <td>14</td>\n",
       "      <td>0.0</td>\n",
       "      <td>0</td>\n",
       "      <td>22401172</td>\n",
       "      <td>19</td>\n",
       "      <td>1629048</td>\n",
       "      <td>Goga Bitadze</td>\n",
       "      <td>1610612753</td>\n",
       "      <td>Missed Shot</td>\n",
       "      <td>...</td>\n",
       "      <td>Above the Break 3</td>\n",
       "      <td>Center(C)</td>\n",
       "      <td>24+ ft.</td>\n",
       "      <td>26</td>\n",
       "      <td>1</td>\n",
       "      <td>268</td>\n",
       "      <td>0</td>\n",
       "      <td>0.349</td>\n",
       "      <td>0.624</td>\n",
       "      <td>0.13</td>\n",
       "    </tr>\n",
       "    <tr>\n",
       "      <th>4</th>\n",
       "      <td>2</td>\n",
       "      <td>46</td>\n",
       "      <td>2.0</td>\n",
       "      <td>0</td>\n",
       "      <td>22401172</td>\n",
       "      <td>63</td>\n",
       "      <td>1629048</td>\n",
       "      <td>Goga Bitadze</td>\n",
       "      <td>1610612753</td>\n",
       "      <td>Made Shot</td>\n",
       "      <td>...</td>\n",
       "      <td>In The Paint (Non-RA)</td>\n",
       "      <td>Center(C)</td>\n",
       "      <td>Less Than 8 ft.</td>\n",
       "      <td>5</td>\n",
       "      <td>48</td>\n",
       "      <td>31</td>\n",
       "      <td>1</td>\n",
       "      <td>0.439</td>\n",
       "      <td>0.624</td>\n",
       "      <td>0.13</td>\n",
       "    </tr>\n",
       "  </tbody>\n",
       "</table>\n",
       "<p>5 rows × 22 columns</p>\n",
       "</div>"
      ],
      "text/plain": [
       "   SHOT_VALUE  ACTION_ID  SCORE_DIFF  CLUTCH_FLAG   GAME_ID  GAME_EVENT_ID  \\\n",
       "0           3          3         0.0            0  22401172              7   \n",
       "1           2         20        -1.0            0  22401172             27   \n",
       "2           2          5         0.0            0  22401172              9   \n",
       "3           3         14         0.0            0  22401172             19   \n",
       "4           2         46         2.0            0  22401172             63   \n",
       "\n",
       "   PLAYER_ID   PLAYER_NAME     TEAM_ID   EVENT_TYPE  ...  \\\n",
       "0     202709   Cory Joseph  1610612753  Missed Shot  ...   \n",
       "1     202709   Cory Joseph  1610612753    Made Shot  ...   \n",
       "2    1629048  Goga Bitadze  1610612753    Made Shot  ...   \n",
       "3    1629048  Goga Bitadze  1610612753  Missed Shot  ...   \n",
       "4    1629048  Goga Bitadze  1610612753    Made Shot  ...   \n",
       "\n",
       "         SHOT_ZONE_BASIC SHOT_ZONE_AREA  SHOT_ZONE_RANGE SHOT_DISTANCE LOC_X  \\\n",
       "0         Right Corner 3  Right Side(R)          24+ ft.            22   227   \n",
       "1        Restricted Area      Center(C)  Less Than 8 ft.             2   -16   \n",
       "2        Restricted Area      Center(C)  Less Than 8 ft.             1     7   \n",
       "3      Above the Break 3      Center(C)          24+ ft.            26     1   \n",
       "4  In The Paint (Non-RA)      Center(C)  Less Than 8 ft.             5    48   \n",
       "\n",
       "   LOC_Y  SHOT_MADE_FLAG  ZONE_FG_PCT  FG_PCT  FG3_PCT  \n",
       "0     21               0        0.390   0.385     0.35  \n",
       "1     21               1        0.664   0.385     0.35  \n",
       "2    -11               1        0.664   0.624     0.13  \n",
       "3    268               0        0.349   0.624     0.13  \n",
       "4     31               1        0.439   0.624     0.13  \n",
       "\n",
       "[5 rows x 22 columns]"
      ]
     },
     "execution_count": 45,
     "metadata": {},
     "output_type": "execute_result"
    }
   ],
   "source": [
    "df_final.head()"
   ]
  },
  {
   "cell_type": "code",
   "execution_count": 46,
   "metadata": {},
   "outputs": [],
   "source": [
    "df_final.to_csv(\"final_pacers.csv\", index=False)"
   ]
  }
 ],
 "metadata": {
  "kernelspec": {
   "display_name": "Python 3",
   "language": "python",
   "name": "python3"
  },
  "language_info": {
   "codemirror_mode": {
    "name": "ipython",
    "version": 3
   },
   "file_extension": ".py",
   "mimetype": "text/x-python",
   "name": "python",
   "nbconvert_exporter": "python",
   "pygments_lexer": "ipython3",
   "version": "3.10.12"
  }
 },
 "nbformat": 4,
 "nbformat_minor": 2
}
