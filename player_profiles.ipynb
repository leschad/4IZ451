{
 "cells": [
  {
   "cell_type": "code",
   "execution_count": 1,
   "metadata": {},
   "outputs": [],
   "source": [
    "import pandas as pd\n",
    "from nba_api.stats.static import players\n",
    "\n",
    "players_act = players.get_active_players()\n",
    "player_ids = [player[\"id\"] for player in players_act]"
   ]
  },
  {
   "cell_type": "code",
   "execution_count": 3,
   "metadata": {},
   "outputs": [],
   "source": [
    "player_ids = player_ids[:100]"
   ]
  },
  {
   "cell_type": "code",
   "execution_count": null,
   "metadata": {},
   "outputs": [],
   "source": [
    "from nba_api.stats.endpoints import playerprofilev2\n",
    "\n",
    "profiles = [playerprofilev2.PlayerProfileV2(player_id=id).get_data_frames()[0] for id in player_ids]\n",
    "df = pd.concat(profiles)\n",
    "df = df[[\"PLAYER_ID\", \"SEASON_ID\", \"GP\", \"MIN\", \"FGM\", \"FGA\", \"FG_PCT\", \"FG3M\", \"FG3A\", \"FG3_PCT\"]]\n",
    "df.head()"
   ]
  },
  {
   "cell_type": "code",
   "execution_count": 28,
   "metadata": {},
   "outputs": [],
   "source": [
    "df.to_csv(\"player_profiles\", index=False)"
   ]
  },
  {
   "cell_type": "markdown",
   "metadata": {},
   "source": [
    "Attempt to use PlayerCareerStats endpoint. Produces same results as previous approach."
   ]
  },
  {
   "cell_type": "code",
   "execution_count": null,
   "metadata": {},
   "outputs": [],
   "source": [
    "# from nba_api.stats.endpoints import playercareerstats\n",
    "\n",
    "# stats = [playercareerstats.PlayerCareerStats(player_id=id).get_data_frames()[0] for id in player_ids]\n",
    "# df_stats = pd.concat(stats)\n",
    "# df_stats.head()"
   ]
  },
  {
   "cell_type": "markdown",
   "metadata": {},
   "source": [
    "Tried to limit player shooting percentage to last season, but every player can still have multiple items - they are split by teams (e.g. if a player played for multiple teams during season). This creates problems when joining shooting data with pbp data. Most likely necessary to aggregate this data. How??"
   ]
  },
  {
   "cell_type": "code",
   "execution_count": null,
   "metadata": {},
   "outputs": [],
   "source": [
    "# df = df[df[\"SEASON_ID\"] == \"2024-25\"]\n",
    "# df = df[[\"PLAYER_ID\", \"FG_PCT\", \"FG3_PCT\"]]\n",
    "# df.shape\n",
    "# df.head()\n",
    "# df.to_csv(\"shooting_pct\", index=False)"
   ]
  },
  {
   "cell_type": "code",
   "execution_count": null,
   "metadata": {},
   "outputs": [],
   "source": [
    "final_df = pd.read_csv(\"data_v1\")\n",
    "final_df.head()"
   ]
  },
  {
   "cell_type": "markdown",
   "metadata": {},
   "source": [
    "Join player shooting PCT in current season with shot data."
   ]
  },
  {
   "cell_type": "code",
   "execution_count": null,
   "metadata": {},
   "outputs": [],
   "source": [
    "test = pd.merge(final_df, df, how=\"left\", left_on=\"personId\", right_on=\"PLAYER_ID\")\n",
    "test = test.drop(columns=[\"PLAYER_ID\"])\n",
    "test.shape\n",
    "# test.head()"
   ]
  },
  {
   "cell_type": "code",
   "execution_count": null,
   "metadata": {},
   "outputs": [],
   "source": [
    "test.to_csv(\"data_v2\", index=False)"
   ]
  },
  {
   "cell_type": "code",
   "execution_count": null,
   "metadata": {},
   "outputs": [],
   "source": [
    "final_df.shape"
   ]
  }
 ],
 "metadata": {
  "kernelspec": {
   "display_name": "Python 3",
   "language": "python",
   "name": "python3"
  },
  "language_info": {
   "codemirror_mode": {
    "name": "ipython",
    "version": 3
   },
   "file_extension": ".py",
   "mimetype": "text/x-python",
   "name": "python",
   "nbconvert_exporter": "python",
   "pygments_lexer": "ipython3",
   "version": "3.10.12"
  }
 },
 "nbformat": 4,
 "nbformat_minor": 2
}
