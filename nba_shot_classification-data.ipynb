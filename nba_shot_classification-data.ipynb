{
 "cells": [
  {
   "cell_type": "code",
   "execution_count": null,
   "metadata": {},
   "outputs": [],
   "source": [
    "import sys\n",
    "!{sys.executable} -m pip install nba_api\n",
    "!{sys.executable} -m pip install pandas\n",
    "!{sys.executable} -m pip install matplotlib"
   ]
  },
  {
   "cell_type": "markdown",
   "metadata": {},
   "source": [
    "Example uses Pacers team ID to find games"
   ]
  },
  {
   "cell_type": "code",
   "execution_count": null,
   "metadata": {},
   "outputs": [],
   "source": [
    "from nba_api.stats.static import teams\n",
    "\n",
    "nba_teams = teams.get_teams()\n",
    "\n",
    "pacers = [team for team in nba_teams if team['abbreviation'] == 'IND'][0]\n",
    "pacers_id = pacers['id']\n",
    "print(f'pacers_id: {pacers_id}')"
   ]
  },
  {
   "cell_type": "code",
   "execution_count": 4,
   "metadata": {},
   "outputs": [],
   "source": [
    "from nba_api.stats.endpoints import leaguegamefinder\n",
    "from nba_api.stats.library.parameters import Season\n",
    "from nba_api.stats.library.parameters import SeasonType\n",
    "\n",
    "gamefinder = leaguegamefinder.LeagueGameFinder(team_id_nullable=pacers_id,\n",
    "                            season_nullable=Season.default,\n",
    "                            season_type_nullable=SeasonType.regular)  \n",
    "\n",
    "# games_dict = gamefinder.get_normalized_dict()\n",
    "# games = games_dict['LeagueGameFinderResults']\n",
    "# game = games[0]\n",
    "# game_id = game['GAME_ID']\n",
    "# game_matchup = game['MATCHUP']\n",
    "\n",
    "# print(f'Searching through {len(games)} game(s) for the game_id of {game_id} where {game_matchup}')\n",
    "\n",
    "games_dict = gamefinder.get_normalized_dict()\n",
    "games = games_dict['LeagueGameFinderResults']\n",
    "game_ids = [(game[\"GAME_ID\"], game[\"GAME_DATE\"]) for game in games]\n",
    "# game_ids"
   ]
  },
  {
   "cell_type": "code",
   "execution_count": null,
   "metadata": {},
   "outputs": [],
   "source": [
    "len(game_ids)"
   ]
  },
  {
   "cell_type": "code",
   "execution_count": null,
   "metadata": {},
   "outputs": [],
   "source": [
    "from nba_api.stats.endpoints import playbyplayv3\n",
    "\n",
    "df_list = [playbyplayv3.PlayByPlayV3(id[0]).get_data_frames()[0] for id in game_ids[-10:]]"
   ]
  },
  {
   "cell_type": "code",
   "execution_count": null,
   "metadata": {},
   "outputs": [],
   "source": [
    "import pandas as pd\n",
    "\n",
    "df = pd.concat(df_list)\n",
    "df = df[['gameId', 'actionNumber', 'clock', 'period', 'teamId', 'teamTricode', 'personId', \n",
    "         'playerNameI', 'xLegacy', 'yLegacy', 'shotDistance', 'shotResult', 'isFieldGoal', \n",
    "         'scoreHome', 'scoreAway', 'location', 'actionType', 'subType', 'shotValue', 'actionId']]\n",
    "# df.shape[0]\n",
    "# df.columns"
   ]
  },
  {
   "cell_type": "markdown",
   "metadata": {},
   "source": [
    "Two filtering methods explored for getting shot events, apparently they are equivalent"
   ]
  },
  {
   "cell_type": "code",
   "execution_count": null,
   "metadata": {},
   "outputs": [],
   "source": [
    "df1 = df[df[\"actionType\"].isin([\"Made Shot\", \"Missed Shot\"])]\n",
    "# df2 = df[df[\"shotResult\"].isin(['Missed', 'Made'])]\n",
    "\n",
    "# print(f'Original df len: {df.shape[0]}, actionType filter len: {df1.shape[0]}, shotResult filter len: {df2.shape[0]}')"
   ]
  },
  {
   "cell_type": "code",
   "execution_count": null,
   "metadata": {},
   "outputs": [],
   "source": [
    "# df1.head()"
   ]
  },
  {
   "cell_type": "markdown",
   "metadata": {},
   "source": [
    "Data exploration in form of a scatter plot. Variable we want to explain is \"shotResult\" (\"Made\"/\"Missed\"). Key variables for classification: \"shotDistance\", \"shotValue\".\n",
    "TODO: player shooting stats, defender distance, blocked shots not included..."
   ]
  },
  {
   "cell_type": "code",
   "execution_count": null,
   "metadata": {},
   "outputs": [],
   "source": [
    "import matplotlib.pyplot as plt\n",
    "\n",
    "# Create the scatter plot\n",
    "plt.figure(figsize=(7, 7))  # Set figure size\n",
    "plt.scatter(df1['xLegacy'], df1['yLegacy'], c='blue', alpha=0.6, edgecolors='black')\n",
    "\n",
    "# Labels and title\n",
    "plt.xlabel(\"X Coordinate (Court)\")\n",
    "plt.ylabel(\"Y Coordinate (Court)\")\n",
    "plt.title(\"NBA Shot Locations\")\n",
    "\n",
    "# Display the plot\n",
    "plt.show()"
   ]
  },
  {
   "cell_type": "code",
   "execution_count": 12,
   "metadata": {},
   "outputs": [],
   "source": [
    "df1.to_csv(\"data_v1\", index=False)"
   ]
  }
 ],
 "metadata": {
  "kernelspec": {
   "display_name": "Python 3",
   "language": "python",
   "name": "python3"
  },
  "language_info": {
   "codemirror_mode": {
    "name": "ipython",
    "version": 3
   },
   "file_extension": ".py",
   "mimetype": "text/x-python",
   "name": "python",
   "nbconvert_exporter": "python",
   "pygments_lexer": "ipython3",
   "version": "3.10.12"
  }
 },
 "nbformat": 4,
 "nbformat_minor": 2
}
