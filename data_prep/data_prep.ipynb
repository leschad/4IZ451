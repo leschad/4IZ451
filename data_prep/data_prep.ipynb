{
 "cells": [
  {
   "cell_type": "code",
   "execution_count": null,
   "metadata": {},
   "outputs": [],
   "source": [
    "import sys\n",
    "!{sys.executable} -m pip install nba_api\n",
    "!{sys.executable} -m pip install pandas\n",
    "!{sys.executable} -m pip install matplotlib"
   ]
  },
  {
   "cell_type": "code",
   "execution_count": 1,
   "metadata": {},
   "outputs": [],
   "source": [
    "import pandas as pd\n",
    "import numpy as np"
   ]
  },
  {
   "cell_type": "markdown",
   "metadata": {},
   "source": [
    "##################################################################\n",
    "\n",
    "Play-by-play\n",
    "\n",
    "##################################################################"
   ]
  },
  {
   "cell_type": "code",
   "execution_count": null,
   "metadata": {},
   "outputs": [],
   "source": [
    "from nba_api.stats.static import teams\n",
    "\n",
    "nba_teams = teams.get_teams()\n",
    "\n",
    "spurs = [team for team in nba_teams if team['abbreviation'] == 'SAS'][0]\n",
    "spurs_id = spurs['id']\n",
    "print(f'spurs_id: {spurs_id}')"
   ]
  },
  {
   "cell_type": "code",
   "execution_count": null,
   "metadata": {},
   "outputs": [],
   "source": [
    "from nba_api.stats.endpoints import leaguegamefinder\n",
    "from nba_api.stats.library.parameters import Season\n",
    "from nba_api.stats.library.parameters import SeasonType\n",
    "\n",
    "gamefinder = leaguegamefinder.LeagueGameFinder(team_id_nullable=spurs_id,\n",
    "                            season_nullable=Season.default,\n",
    "                            season_type_nullable=SeasonType.regular)  \n",
    "\n",
    "games_dict = gamefinder.get_normalized_dict()\n",
    "games = games_dict['LeagueGameFinderResults']\n",
    "game_ids = [game[\"GAME_ID\"] for game in games]\n",
    "print(game_ids)"
   ]
  },
  {
   "cell_type": "code",
   "execution_count": 4,
   "metadata": {},
   "outputs": [],
   "source": [
    "from nba_api.stats.endpoints import playbyplayv3\n",
    "\n",
    "df_list = [playbyplayv3.PlayByPlayV3(id).get_data_frames()[0] for id in game_ids]"
   ]
  },
  {
   "cell_type": "code",
   "execution_count": null,
   "metadata": {},
   "outputs": [],
   "source": [
    "df = pd.concat(df_list)\n",
    "df = df[['gameId', 'actionNumber', 'clock', 'period', 'teamId', 'personId', \n",
    "         'playerNameI', 'xLegacy', 'yLegacy', 'shotDistance', 'shotResult', 'isFieldGoal', \n",
    "         'scoreHome', 'scoreAway', 'location', 'actionType', 'subType', 'shotValue', 'actionId']]\n",
    "df.shape[0]"
   ]
  },
  {
   "cell_type": "code",
   "execution_count": null,
   "metadata": {},
   "outputs": [],
   "source": [
    "df = df[df[\"actionType\"].isin([\"Made Shot\", \"Missed Shot\", \"Free Throw\"])]\n",
    "df.shape"
   ]
  },
  {
   "cell_type": "markdown",
   "metadata": {},
   "source": [
    "Calculate scoreDiff - difference in score from shooting player team perspective before shot is taken."
   ]
  },
  {
   "cell_type": "code",
   "execution_count": 16,
   "metadata": {},
   "outputs": [],
   "source": [
    "df[\"scoreHome\"].replace('', '0', inplace=True)\n",
    "df[\"scoreAway\"].replace('', '0', inplace=True)"
   ]
  },
  {
   "cell_type": "code",
   "execution_count": null,
   "metadata": {},
   "outputs": [],
   "source": [
    "df[\"scoreHome\"] = df[\"scoreHome\"].astype(int)\n",
    "df[\"scoreAway\"] = df[\"scoreAway\"].astype(int)"
   ]
  },
  {
   "cell_type": "code",
   "execution_count": 18,
   "metadata": {},
   "outputs": [],
   "source": [
    "def fill_scores(group):\n",
    "    # Replace NaN in the first row with 0\n",
    "    if pd.isna(group.iloc[0]['scoreHome']):\n",
    "        group.iloc[0, group.columns.get_loc('scoreHome')] = 0.0\n",
    "    if pd.isna(group.iloc[0]['scoreAway']):\n",
    "        group.iloc[0, group.columns.get_loc('scoreAway')] = 0.0\n",
    "    # Forward-fill the rest\n",
    "    group['scoreHome'] = group['scoreHome'].ffill()\n",
    "    group['scoreAway'] = group['scoreAway'].ffill()\n",
    "    return group\n",
    "\n",
    "# Apply the function to each gameId group\n",
    "df = df.groupby('gameId', group_keys=False).apply(fill_scores)"
   ]
  },
  {
   "cell_type": "code",
   "execution_count": null,
   "metadata": {},
   "outputs": [],
   "source": [
    "df.head()"
   ]
  },
  {
   "cell_type": "code",
   "execution_count": null,
   "metadata": {},
   "outputs": [],
   "source": [
    "df[\"scoreDiff\"] = np.where(\n",
    "    df[\"location\"] == \"h\",\n",
    "    df[\"scoreHome\"] - df[\"scoreAway\"],\n",
    "    df[\"scoreAway\"] - df[\"scoreHome\"]\n",
    ")\n",
    "\n",
    "print(df[['gameId', 'actionNumber', 'scoreHome', 'scoreAway', 'scoreDiff', 'actionType', 'location']].head(20))"
   ]
  },
  {
   "cell_type": "code",
   "execution_count": 21,
   "metadata": {},
   "outputs": [],
   "source": [
    "def shift_score_diff(group):\n",
    "    group = group.copy()\n",
    "    group['scoreDiff'] = group['scoreDiff'].shift(1)  # Shift up to reflect \"before shot\"\n",
    "    group.iloc[0, group.columns.get_loc('scoreDiff')] = 0.0      # First row should be 0\n",
    "    return group\n",
    "\n",
    "df = df.groupby('gameId', group_keys=False).apply(shift_score_diff)\n",
    "\n",
    "def mirror_diff_on_location_switch(group):\n",
    "    group = group.copy()\n",
    "    # Compare current row's location to previous row's\n",
    "    group['locationChanged'] = group['location'] != group['location'].shift(1)\n",
    "    \n",
    "    # Mirror scoreDiff only if location changed and scoreDiff != 0\n",
    "    group['scoreDiff'] = np.where(\n",
    "        (group['locationChanged']) & (group['scoreDiff'] != 0),\n",
    "        -group['scoreDiff'],\n",
    "        group['scoreDiff']\n",
    "    )\n",
    "    \n",
    "    group.drop(columns='locationChanged', inplace=True)  # optional cleanup\n",
    "    return group\n",
    "\n",
    "df = df.groupby('gameId', group_keys=False).apply(mirror_diff_on_location_switch)"
   ]
  },
  {
   "cell_type": "code",
   "execution_count": 22,
   "metadata": {},
   "outputs": [],
   "source": [
    "df = df[df[\"actionType\"].isin([\"Made Shot\", \"Missed Shot\"])]"
   ]
  },
  {
   "cell_type": "code",
   "execution_count": null,
   "metadata": {},
   "outputs": [],
   "source": [
    "def clock_to_seconds(clock_str):\n",
    "    parts = clock_str.replace('PT', '').replace('S', '').split('M')\n",
    "    minutes = int(parts[0].replace('M', ''))\n",
    "    seconds = float(parts[1])\n",
    "    return minutes * 60 + seconds\n",
    "\n",
    "df['secondsRemaining'] = df['clock'].apply(clock_to_seconds)\n",
    "\n",
    "# Define clutchFlag\n",
    "df['clutchFlag'] = df.apply(\n",
    "    lambda row: 1 if (\n",
    "        row['period'] in [4, 5] and\n",
    "        row['secondsRemaining'] <= 300 and\n",
    "        abs(row['scoreDiff']) <= 5\n",
    "    ) else 0,\n",
    "    axis=1\n",
    ")\n",
    "\n",
    "df['clutchFlag'].value_counts()"
   ]
  },
  {
   "cell_type": "code",
   "execution_count": null,
   "metadata": {},
   "outputs": [],
   "source": [
    "df.drop(columns=[\"period\", \"clock\", \"secondsRemaining\"], inplace=True)\n",
    "df.columns"
   ]
  },
  {
   "cell_type": "code",
   "execution_count": null,
   "metadata": {},
   "outputs": [],
   "source": [
    "df[\"shotResult\"] = df[\"shotResult\"].replace({'Made': 1, 'Missed': 0})"
   ]
  },
  {
   "cell_type": "code",
   "execution_count": null,
   "metadata": {},
   "outputs": [],
   "source": [
    "df.head()"
   ]
  },
  {
   "cell_type": "code",
   "execution_count": 33,
   "metadata": {},
   "outputs": [],
   "source": [
    "df.to_csv(\"data/pbp_spurs.csv\", index=False)"
   ]
  },
  {
   "cell_type": "markdown",
   "metadata": {},
   "source": [
    "##################################################################\n",
    "\n",
    "2. SHOT CHART\n",
    "\n",
    "##################################################################"
   ]
  },
  {
   "cell_type": "code",
   "execution_count": null,
   "metadata": {},
   "outputs": [],
   "source": [
    "import pandas as pd"
   ]
  },
  {
   "cell_type": "code",
   "execution_count": null,
   "metadata": {},
   "outputs": [],
   "source": [
    "pbp = pd.read_csv('data/pbp_spurs.csv')\n",
    "player_ids = pbp['personId'].unique()\n",
    "len(player_ids)"
   ]
  },
  {
   "cell_type": "code",
   "execution_count": 3,
   "metadata": {},
   "outputs": [],
   "source": [
    "from nba_api.stats.endpoints import shotchartdetail\n",
    "\n",
    "df_list = [shotchartdetail.ShotChartDetail(player_id=id, season_nullable='2024-25', team_id=0, context_measure_simple='FGA').get_data_frames()[0] for id in player_ids]"
   ]
  },
  {
   "cell_type": "code",
   "execution_count": null,
   "metadata": {},
   "outputs": [],
   "source": [
    "df_detail = pd.concat(df_list)\n",
    "df_detail.shape[0]"
   ]
  },
  {
   "cell_type": "code",
   "execution_count": null,
   "metadata": {},
   "outputs": [],
   "source": [
    "df_detail.groupby(['SHOT_ZONE_BASIC', 'SHOT_ZONE_AREA', 'SHOT_ZONE_RANGE']).size().reset_index()"
   ]
  },
  {
   "cell_type": "code",
   "execution_count": null,
   "metadata": {},
   "outputs": [],
   "source": [
    "from nba_api.stats.endpoints import shotchartleaguewide\n",
    "\n",
    "df_league = shotchartleaguewide.ShotChartLeagueWide(season='2024-25').get_data_frames()[0]\n",
    "df_league"
   ]
  },
  {
   "cell_type": "code",
   "execution_count": null,
   "metadata": {},
   "outputs": [],
   "source": [
    "df_league.groupby(['SHOT_ZONE_BASIC', 'SHOT_ZONE_AREA', 'SHOT_ZONE_RANGE']).size().reset_index()"
   ]
  },
  {
   "cell_type": "markdown",
   "metadata": {},
   "source": [
    "Merge detail/league for FG_PCT from area."
   ]
  },
  {
   "cell_type": "code",
   "execution_count": null,
   "metadata": {},
   "outputs": [],
   "source": [
    "df_chart = pd.merge(df_detail, df_league, how=\"inner\", on=[\"SHOT_ZONE_BASIC\", \"SHOT_ZONE_AREA\", \"SHOT_ZONE_RANGE\"])\n",
    "df_chart.shape"
   ]
  },
  {
   "cell_type": "code",
   "execution_count": null,
   "metadata": {},
   "outputs": [],
   "source": [
    "df_chart.columns"
   ]
  },
  {
   "cell_type": "code",
   "execution_count": null,
   "metadata": {},
   "outputs": [],
   "source": [
    "df_chart.drop(columns=[\"GRID_TYPE_x\", \"TEAM_NAME\", \"PERIOD\", \"MINUTES_REMAINING\",\n",
    "       \"SECONDS_REMAINING\", \"GAME_DATE\", \"HTM\", \"VTM\", \"GRID_TYPE_y\", \"FGA\", \"FGM\"], inplace=True)\n",
    "\n",
    "df_chart.head()"
   ]
  },
  {
   "cell_type": "code",
   "execution_count": 12,
   "metadata": {},
   "outputs": [],
   "source": [
    "df_chart = df_chart.rename(columns={\"FG_PCT\": \"ZONE_FG_PCT\"})"
   ]
  },
  {
   "cell_type": "code",
   "execution_count": 13,
   "metadata": {},
   "outputs": [],
   "source": [
    "df_chart.to_csv(\"data/chart_spurs.csv\", index=False)"
   ]
  },
  {
   "cell_type": "markdown",
   "metadata": {},
   "source": [
    "##################################################################\n",
    "\n",
    "3. Player pt shots\n",
    "\n",
    "##################################################################"
   ]
  },
  {
   "cell_type": "code",
   "execution_count": 2,
   "metadata": {},
   "outputs": [],
   "source": [
    "import pandas as pd"
   ]
  },
  {
   "cell_type": "code",
   "execution_count": 3,
   "metadata": {},
   "outputs": [],
   "source": [
    "df_pbp = pd.read_csv(\"data/pbp_spurs.csv\")"
   ]
  },
  {
   "cell_type": "code",
   "execution_count": null,
   "metadata": {},
   "outputs": [],
   "source": [
    "df_player_teams = df_pbp.groupby(['teamId', 'personId']).size().reset_index()\n",
    "df_player_teams.shape"
   ]
  },
  {
   "cell_type": "code",
   "execution_count": null,
   "metadata": {},
   "outputs": [],
   "source": [
    "from nba_api.stats.endpoints import playerdashptshots\n",
    "\n",
    "df_list = [playerdashptshots.PlayerDashPtShots(team_id=row[\"teamId\"], player_id=row[\"personId\"]).get_data_frames()[0] for index, row in df_player_teams.iterrows()]\n",
    "df_ptshots = pd.concat(df_list, ignore_index=True)\n",
    "df_ptshots.shape"
   ]
  },
  {
   "cell_type": "code",
   "execution_count": 6,
   "metadata": {},
   "outputs": [],
   "source": [
    "df_ptshots.to_csv(\"data/ptshots_spurs.csv\", index=False)"
   ]
  },
  {
   "cell_type": "markdown",
   "metadata": {},
   "source": [
    "##################################################################\n",
    "\n",
    "Create final dataset\n",
    "\n",
    "##################################################################"
   ]
  },
  {
   "cell_type": "code",
   "execution_count": null,
   "metadata": {},
   "outputs": [],
   "source": [
    "df_pbp = pd.read_csv(\"data/pbp_spurs.csv\")\n",
    "df_chart = pd.read_csv(\"data/chart_spurs.csv\")"
   ]
  },
  {
   "cell_type": "code",
   "execution_count": null,
   "metadata": {},
   "outputs": [],
   "source": [
    "df_pbp.head()"
   ]
  },
  {
   "cell_type": "code",
   "execution_count": null,
   "metadata": {},
   "outputs": [],
   "source": [
    "df_chart.head()"
   ]
  },
  {
   "cell_type": "code",
   "execution_count": null,
   "metadata": {},
   "outputs": [],
   "source": [
    "print(f\"pbp columns: {df_pbp.shape[0]}, chart columns: {df_chart.shape[0]}\")"
   ]
  },
  {
   "cell_type": "code",
   "execution_count": null,
   "metadata": {},
   "outputs": [],
   "source": [
    "df_final = pd.merge(df_pbp, df_chart, how=\"inner\", left_on=[\"gameId\", \"actionNumber\", \"personId\"], right_on=[\"GAME_ID\", \"GAME_EVENT_ID\", \"PLAYER_ID\"])\n",
    "df_final.shape"
   ]
  },
  {
   "cell_type": "code",
   "execution_count": null,
   "metadata": {},
   "outputs": [],
   "source": [
    "df_final.columns"
   ]
  },
  {
   "cell_type": "code",
   "execution_count": null,
   "metadata": {},
   "outputs": [],
   "source": [
    "(df_final[\"shotResult\"] == df_final[\"SHOT_MADE_FLAG\"]).all()"
   ]
  },
  {
   "cell_type": "code",
   "execution_count": null,
   "metadata": {},
   "outputs": [],
   "source": [
    "df_final[df_final[\"shotDistance\"] != df_final[\"SHOT_DISTANCE\"]][[\"shotDistance\", \"SHOT_DISTANCE\"]].head()"
   ]
  },
  {
   "cell_type": "code",
   "execution_count": null,
   "metadata": {},
   "outputs": [],
   "source": [
    "df_final[\"SHOT_ATTEMPTED_FLAG\"].value_counts()"
   ]
  },
  {
   "cell_type": "code",
   "execution_count": null,
   "metadata": {},
   "outputs": [],
   "source": [
    "df_final.drop(columns=['gameId', 'actionNumber', 'teamId', 'personId',\n",
    "       'playerNameI', 'xLegacy', 'yLegacy', 'shotDistance', 'shotResult',\n",
    "       'isFieldGoal', 'scoreHome', 'scoreAway', 'location', 'actionType',\n",
    "       'subType', 'EVENT_TYPE', 'SHOT_TYPE', 'SHOT_ATTEMPTED_FLAG'], inplace=True)"
   ]
  },
  {
   "cell_type": "code",
   "execution_count": 18,
   "metadata": {},
   "outputs": [],
   "source": [
    "df_final.rename(columns={\"shotValue\": \"SHOT_VALUE\", \"actionId\": \"ACTION_ID\", \"scoreDiff\": \"SCORE_DIFF\", \"clutchFlag\": \"CLUTCH_FLAG\"}, inplace=True)"
   ]
  },
  {
   "cell_type": "code",
   "execution_count": null,
   "metadata": {},
   "outputs": [],
   "source": [
    "df_final.head()"
   ]
  },
  {
   "cell_type": "code",
   "execution_count": null,
   "metadata": {},
   "outputs": [],
   "source": [
    "df_final.to_csv(\"data/pbp-chart_spurs.csv\", index=False)"
   ]
  },
  {
   "cell_type": "code",
   "execution_count": null,
   "metadata": {},
   "outputs": [],
   "source": [
    "df_ptshots = pd.read_csv(\"data/ptshots_spurs.csv\")\n",
    "df_ptshots.columns"
   ]
  },
  {
   "cell_type": "code",
   "execution_count": null,
   "metadata": {},
   "outputs": [],
   "source": [
    "df_ptshots = df_ptshots.sort_values('GP', ascending=False).drop_duplicates(subset='PLAYER_ID', keep='first')\n",
    "df_ptshots.shape"
   ]
  },
  {
   "cell_type": "code",
   "execution_count": 25,
   "metadata": {},
   "outputs": [],
   "source": [
    "df_ptshots.drop(columns=[\"PLAYER_NAME_LAST_FIRST\", \"SORT_ORDER\", \"GP\", \"G\",\n",
    "       \"SHOT_TYPE\"], inplace=True)"
   ]
  },
  {
   "cell_type": "code",
   "execution_count": null,
   "metadata": {},
   "outputs": [],
   "source": [
    "df_final.shape"
   ]
  },
  {
   "cell_type": "code",
   "execution_count": null,
   "metadata": {},
   "outputs": [],
   "source": [
    "df_final_shots = pd.merge(df_final, df_ptshots, how=\"inner\", on=\"PLAYER_ID\")\n",
    "df_final_shots.shape"
   ]
  },
  {
   "cell_type": "code",
   "execution_count": null,
   "metadata": {},
   "outputs": [],
   "source": [
    "df_final_shots['PLAYER_SHOT_PCT'] = df_final_shots.apply(\n",
    "    lambda row: row['FG2_PCT'] if row['SHOT_VALUE'] == 2 else row['FG3_PCT'] if row['SHOT_VALUE'] == 3 else None,\n",
    "    axis=1\n",
    ")\n",
    "\n",
    "df_final_shots.drop(columns=[\"FG2_PCT\", \"FG3_PCT\"], inplace=True)"
   ]
  },
  {
   "cell_type": "code",
   "execution_count": null,
   "metadata": {},
   "outputs": [],
   "source": [
    "df_final_shots.columns"
   ]
  },
  {
   "cell_type": "code",
   "execution_count": null,
   "metadata": {},
   "outputs": [],
   "source": [
    "df_final_shots.drop(columns=[\"ACTION_ID\", \"GAME_EVENT_ID\"])"
   ]
  },
  {
   "cell_type": "code",
   "execution_count": 33,
   "metadata": {},
   "outputs": [],
   "source": [
    "df_final_shots.to_csv(\"../final_data_spurs.csv\", index=False)"
   ]
  }
 ],
 "metadata": {
  "kernelspec": {
   "display_name": "Python 3",
   "language": "python",
   "name": "python3"
  },
  "language_info": {
   "codemirror_mode": {
    "name": "ipython",
    "version": 3
   },
   "file_extension": ".py",
   "mimetype": "text/x-python",
   "name": "python",
   "nbconvert_exporter": "python",
   "pygments_lexer": "ipython3",
   "version": "3.10.12"
  }
 },
 "nbformat": 4,
 "nbformat_minor": 2
}
